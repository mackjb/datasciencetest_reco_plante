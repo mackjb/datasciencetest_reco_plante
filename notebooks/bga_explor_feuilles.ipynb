{
 "cells": [
  {
   "cell_type": "code",
   "execution_count": null,
   "id": "725050fd",
   "metadata": {},
   "outputs": [],
   "source": [
    "import os\n",
    "from collections import Counter\n",
    "from pathlib import Path\n",
    "from PIL import Image\n",
    "import numpy as np\n",
    "import math\n",
    "import pandas as pd\n",
    "import plotly.express as px\n",
    "import matplotlib.pyplot as plt\n",
    "import hashlib\n"
   ]
  },
  {
   "cell_type": "code",
   "execution_count": null,
   "id": "51aea377",
   "metadata": {},
   "outputs": [],
   "source": [
    "from pathlib import Path\n",
    "\n",
    "# 1. Trouve dynamiquement la racine du projet (contenant .gitignore)\n",
    "cwd = Path.cwd()\n",
    "PROJECT_ROOT = next(p for p in (cwd, *cwd.parents) if (p / \".gitignore\").exists())\n",
    "\n",
    "print(\"PROJECT_ROOT =\", PROJECT_ROOT)"
   ]
  },
  {
   "cell_type": "code",
   "execution_count": null,
   "id": "621fe8b7",
   "metadata": {},
   "outputs": [],
   "source": [
    "# root_dir complet\n",
    "root_dir = PROJECT_ROOT/\"dataset\"/\"plantvillage\"/\"data\"/\"plantvillage dataset\"/\"segmented\"\n",
    "\n",
    "# root_dir_5_img = PROJECT_ROOT/\"dataset\"/\"plantvillage\"/\"data\"/\"plantvillage_5images\"/\"segmented\""
   ]
  },
  {
   "cell_type": "code",
   "execution_count": null,
   "id": "0fcb2b22",
   "metadata": {},
   "outputs": [],
   "source": [
    "df = pd.read_csv('Plant_V_Seg_clean.csv')\n",
    "df.columns"
   ]
  },
  {
   "cell_type": "code",
   "execution_count": null,
   "id": "c3674bb7",
   "metadata": {},
   "outputs": [],
   "source": [
    "def show_sample_images(df: pd.DataFrame, n_per_class:int=3, thumb_size=(100,100)):\n",
    "    \"\"\"Affiche n_per_class miniatures par espèce.\"\"\"\n",
    "    classes = df['nom_plante'].unique()\n",
    "    fig, axes = plt.subplots(len(classes), n_per_class, figsize=(n_per_class*2, len(classes)*2))\n",
    "    for i, cls in enumerate(classes):\n",
    "        paths = df[df['nom_plante']==cls]['Image_Path'].sample(n_per_class, random_state=0).tolist()\n",
    "        for j, p in enumerate(paths):\n",
    "            img = Image.open(p).resize(thumb_size)\n",
    "            ax = axes[i,j] if len(classes)>1 else axes[j]\n",
    "            ax.imshow(img); ax.axis('off')\n",
    "        axes[i,0].set_ylabel(cls, rotation=0, labelpad=40, va='center')\n",
    "    plt.suptitle(\"Exemples par espèce\", y=0.92)\n",
    "    plt.tight_layout(); plt.show()\n"
   ]
  },
  {
   "cell_type": "code",
   "execution_count": null,
   "id": "eac97f05",
   "metadata": {},
   "outputs": [],
   "source": [
    "# Affichage d'une sélection des différentes plantes\n",
    "species = df['nom_plante'].unique()\n",
    "n = len(species)\n",
    "cols = 4\n",
    "rows = math.ceil(n / cols)\n",
    "\n",
    "fig, axes = plt.subplots(rows, cols, figsize=(cols * 4, rows * 4))\n",
    "axes = axes.flatten()\n",
    "\n",
    "for ax, sp in zip(axes, species):\n",
    "    # Récupère le premier chemin d'image pour cette espèce\n",
    "    img_path = df.loc[df['nom_plante'] == sp, 'Image_Path'].iat[0]\n",
    "    img = Image.open(img_path)\n",
    "    ax.imshow(img)\n",
    "    ax.set_title(sp, fontsize=10)\n",
    "    ax.axis('off')\n",
    "\n",
    "plt.tight_layout()\n",
    "plt.show()"
   ]
  },
  {
   "cell_type": "code",
   "execution_count": null,
   "id": "c3ac5f96",
   "metadata": {},
   "outputs": [],
   "source": [
    "# 2) Filtrer pour ne garder que la plante désirée ici tomato\n",
    "corn_df = df[df['nom_plante'] == 'Tomato']\n",
    "\n",
    "# 3) Tirage aléatoire de 16 échantillons\n",
    "import math\n",
    "sample_count = min(12, len(corn_df))\n",
    "sample_df = corn_df.sample(n=sample_count, random_state=120)\n",
    "\n",
    "# 4) Affichage en grille 4×4\n",
    "import matplotlib.pyplot as plt\n",
    "from PIL import Image\n",
    "\n",
    "cols = 3\n",
    "rows = math.ceil(sample_count / cols)\n",
    "fig, axes = plt.subplots(rows, cols, figsize=(cols*3, rows*3))\n",
    "axes = axes.flatten()\n",
    "\n",
    "for ax, (_, row) in zip(axes, sample_df.iterrows()):\n",
    "    img = Image.open(row['Image_Path'])\n",
    "    ax.imshow(img)\n",
    "    ax.axis('off')\n",
    "\n",
    "for ax in axes[sample_count:]:\n",
    "    ax.axis('off')\n",
    "\n",
    "plt.tight_layout()\n",
    "plt.show()\n"
   ]
  }
 ],
 "metadata": {
  "kernelspec": {
   "display_name": "conda_env",
   "language": "python",
   "name": "python3"
  },
  "language_info": {
   "codemirror_mode": {
    "name": "ipython",
    "version": 3
   },
   "file_extension": ".py",
   "mimetype": "text/x-python",
   "name": "python",
   "nbconvert_exporter": "python",
   "pygments_lexer": "ipython3",
   "version": "3.11.13"
  }
 },
 "nbformat": 4,
 "nbformat_minor": 5
}
