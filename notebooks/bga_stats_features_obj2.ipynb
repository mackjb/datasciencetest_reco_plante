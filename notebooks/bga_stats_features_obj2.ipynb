{
 "cells": [
  {
   "cell_type": "code",
   "execution_count": null,
   "id": "0",
   "metadata": {},
   "outputs": [],
   "source": [
    "from pathlib import Path\n",
    "import pandas as pd\n",
    "import numpy as np\n",
    "import os\n",
    "import cv2\n",
    "from PIL import Image\n",
    "import plotly.express as px\n",
    "import plotly.graph_objects as go\n",
    "from skimage.feature.texture import graycomatrix, graycoprops\n",
    "from skimage.measure import label, regionprops\n",
    "from skimage.measure import moments_hu\n",
    "from tqdm import tqdm\n",
    "from sklearn.cluster import DBSCAN\n",
    "from scipy.stats import spearmanr\n",
    "from sklearn.preprocessing import LabelEncoder\n",
    "import matplotlib.pyplot as plt\n",
    "import seaborn as sns\n",
    "from collections import Counter\n",
    "from collections import defaultdict\n",
    "import shutil\n",
    "import hashlib"
   ]
  },
  {
   "cell_type": "markdown",
   "id": "1",
   "metadata": {},
   "source": [
    "Définitions des fonctions statistiques et graphiques des caractéristiques"
   ]
  },
  {
   "cell_type": "code",
   "execution_count": null,
   "id": "2",
   "metadata": {},
   "outputs": [],
   "source": [
    "df = pd.read_csv(\"/workspaces/datasciencetest_reco_plante/notebooks/Plant_V_Seg_all_features.csv\")\n",
    "df.head()"
   ]
  },
  {
   "cell_type": "code",
   "execution_count": null,
   "id": "3",
   "metadata": {},
   "outputs": [],
   "source": [
    "# Analyse statistique - Violinplot interactif Plotly (distribution par classe)\n",
    "def plot_violin_interactive(df, feature, classe='nom_plante'):\n",
    "    fig = px.violin(df, y=feature, x=classe, box=True, points=\"all\", hover_data=df.columns,\n",
    "        title=f\"Distribution de {feature} par {classe}\")\n",
    "    fig.update_layout(xaxis_tickangle=-45)\n",
    "    fig.show()"
   ]
  },
  {
   "cell_type": "code",
   "execution_count": null,
   "id": "4",
   "metadata": {},
   "outputs": [],
   "source": [
    "# Analyse statistique - Boxplot interactif Plotly\n",
    "def plot_box_interactive(df, feature, classe='nom_plante'):\n",
    "    fig = px.box(df, x=classe, y=feature, points=\"all\", title=f\"Boxplot de {feature} par {classe}\",hover_data=df.columns)\n",
    "    fig.update_layout(xaxis_tickangle=-45)\n",
    "    fig.show()"
   ]
  },
  {
   "cell_type": "code",
   "execution_count": null,
   "id": "5",
   "metadata": {},
   "outputs": [],
   "source": [
    "# Graphiques recommandés pour Objectif 2 : Déterminer si la plante est malade\n",
    "# Comparer l’état (Est_Saine) pour les features de couleur/texture\n",
    "\n",
    "plot_box_interactive(df, feature='contrast', classe='Est_Saine')\n",
    "plot_violin_interactive(df, feature='mean_R', classe='Est_Saine')\n",
    "plot_box_interactive(df, feature='energy', classe='Est_Saine')"
   ]
  }
 ],
 "metadata": {
  "kernelspec": {
   "display_name": "conda_env",
   "language": "python",
   "name": "python3"
  },
  "language_info": {
   "codemirror_mode": {
    "name": "ipython",
    "version": 3
   },
   "file_extension": ".py",
   "mimetype": "text/x-python",
   "name": "python",
   "nbconvert_exporter": "python",
   "pygments_lexer": "ipython3",
   "version": "3.11.13"
  }
 },
 "nbformat": 4,
 "nbformat_minor": 5
}
