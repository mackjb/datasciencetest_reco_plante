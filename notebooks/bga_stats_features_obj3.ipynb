{
 "cells": [
  {
   "cell_type": "code",
   "execution_count": null,
   "id": "11070384",
   "metadata": {},
   "outputs": [],
   "source": [
    "from pathlib import Path\n",
    "import pandas as pd\n",
    "import numpy as np\n",
    "import os\n",
    "import cv2\n",
    "from PIL import Image\n",
    "import plotly.express as px\n",
    "import plotly.graph_objects as go\n",
    "from skimage.feature.texture import graycomatrix, graycoprops\n",
    "from skimage.measure import label, regionprops\n",
    "from skimage.measure import moments_hu\n",
    "from tqdm import tqdm\n",
    "from sklearn.cluster import DBSCAN\n",
    "from scipy.stats import spearmanr\n",
    "from sklearn.preprocessing import LabelEncoder\n",
    "import matplotlib.pyplot as plt\n",
    "import seaborn as sns\n",
    "from collections import Counter\n",
    "from collections import defaultdict\n",
    "import shutil\n",
    "import hashlib"
   ]
  },
  {
   "cell_type": "markdown",
   "id": "01ea90f7",
   "metadata": {},
   "source": [
    "Définitions des fonctions statistiques et graphiques des caractéristiques"
   ]
  },
  {
   "cell_type": "code",
   "execution_count": null,
   "id": "375e652c",
   "metadata": {},
   "outputs": [],
   "source": [
    "df = pd.read_csv(\"/workspaces/datasciencetest_reco_plante/notebooks/plant_V_Seg_all_features.csv\")\n",
    "df.head()"
   ]
  },
  {
   "cell_type": "code",
   "execution_count": null,
   "id": "a4954065",
   "metadata": {},
   "outputs": [],
   "source": [
    "df.columns"
   ]
  },
  {
   "cell_type": "code",
   "execution_count": null,
   "id": "9ec89351",
   "metadata": {},
   "outputs": [],
   "source": [
    "# Analyse statistique - Violinplot interactif Plotly (distribution par classe)\n",
    "def plot_violin_interactive(df, feature, classe='nom_plante'):\n",
    "    fig = px.violin(df, y=feature, x=classe, box=True, points=\"all\", hover_data=df.columns,\n",
    "        title=f\"Distribution de {feature} par {classe}\")\n",
    "    fig.update_layout(xaxis_tickangle=-45)\n",
    "    fig.show()"
   ]
  },
  {
   "cell_type": "code",
   "execution_count": null,
   "id": "f637ba96",
   "metadata": {},
   "outputs": [],
   "source": [
    "# Analyse statistique - Boxplot interactif Plotly\n",
    "def plot_box_interactive(df, feature, classe='nom_plante'):\n",
    "    fig = px.box(df, x=classe, y=feature, points=\"all\", title=f\"Boxplot de {feature} par {classe}\",hover_data=df.columns)\n",
    "    fig.update_layout(xaxis_tickangle=-45)\n",
    "    fig.show()"
   ]
  },
  {
   "cell_type": "code",
   "execution_count": null,
   "id": "05feee3b",
   "metadata": {},
   "outputs": [],
   "source": [
    "# Analyse statistique - Histogramme (par classe ou global)\n",
    "def plot_hist_interactive(df, feature, classe='Est_Saine'):\n",
    "    fig = px.histogram(\n",
    "        df, x=feature, color=classe,\n",
    "        marginal=\"box\",  # ou \"rug\"\n",
    "        hover_data=df.columns,\n",
    "        title=f\"Histogramme de {feature} (par {classe})\"\n",
    "    )\n",
    "    fig.show()"
   ]
  },
  {
   "cell_type": "code",
   "execution_count": null,
   "id": "4aee88d6",
   "metadata": {},
   "outputs": [],
   "source": [
    "# Analyse statistique - Matrice de corrélation interactive (Plotly heatmap)\n",
    "def plot_corr_heatmap_interactive(root_dir_img, colonnes_features, method='spearman'):\n",
    "    corr = root_dir_img[colonnes_features].corr(method=method)\n",
    "    fig = px.imshow(\n",
    "        corr,\n",
    "        text_auto=True,\n",
    "        aspect='auto',\n",
    "        color_continuous_scale='RdBu_r',\n",
    "        title=f\"Matrice de corrélation ({method})\"\n",
    "    )\n",
    "    fig.update_layout(width=1000, height=800)\n",
    "    fig.show()"
   ]
  },
  {
   "cell_type": "code",
   "execution_count": null,
   "id": "011d0dd5",
   "metadata": {},
   "outputs": [],
   "source": [
    "def correlation_with_target(df, colonnes_features, target):\n",
    "    le = LabelEncoder()\n",
    "    y = le.fit_transform(df[target])\n",
    "    corr_result = {}\n",
    "    for feat in colonnes_features:\n",
    "        corr, _ = spearmanr(df[feat], y)\n",
    "        corr_result[feat] = corr\n",
    "    corr_df = pd.DataFrame.from_dict(corr_result, orient='index', columns=['Corrélation'])\n",
    "    corr_df = corr_df.sort_values(by='Corrélation', ascending=False)\n",
    "    display(corr_df)"
   ]
  },
  {
   "cell_type": "code",
   "execution_count": null,
   "id": "76a3c062",
   "metadata": {},
   "outputs": [],
   "source": [
    "# Graphiques recommandés pour Objectif 3 : Identifier la maladie (sur feuilles malades uniquement)\n",
    "# Comparer les nom_maladie uniquement sur les lignes où Est_Saine == 0\n",
    "\n",
    "df_malade = df[df[\"Est_Saine\"] == 0]\n",
    "\n",
    "plot_box_interactive(df_malade, feature='mean_B', classe='nom_maladie')\n",
    "plot_violin_interactive(df_malade, feature='contrast', classe='nom_maladie')\n",
    "plot_violin_interactive(df_malade, feature='hu_4', classe='nom_maladie')"
   ]
  }
 ],
 "metadata": {
  "kernelspec": {
   "display_name": "conda_env",
   "language": "python",
   "name": "python3"
  },
  "language_info": {
   "codemirror_mode": {
    "name": "ipython",
    "version": 3
   },
   "file_extension": ".py",
   "mimetype": "text/x-python",
   "name": "python",
   "nbconvert_exporter": "python",
   "pygments_lexer": "ipython3",
   "version": "3.11.13"
  }
 },
 "nbformat": 4,
 "nbformat_minor": 5
}
