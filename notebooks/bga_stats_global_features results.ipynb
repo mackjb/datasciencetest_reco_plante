{
 "cells": [
  {
   "cell_type": "code",
   "execution_count": null,
   "id": "0",
   "metadata": {},
   "outputs": [],
   "source": [
    "import pandas as pd\n",
    "import numpy as np\n",
    "import math\n",
    "import plotly.express as px\n",
    "import matplotlib.pyplot as plt\n",
    "import plotly.graph_objects as go\n",
    "from plotly.subplots import make_subplots\n",
    "import seaborn as sns"
   ]
  },
  {
   "cell_type": "markdown",
   "id": "1",
   "metadata": {},
   "source": [
    "Définitions des fonctions statistiques et graphiques des caractéristiques"
   ]
  },
  {
   "cell_type": "code",
   "execution_count": null,
   "id": "2",
   "metadata": {},
   "outputs": [],
   "source": [
    "df = pd.read_csv(\"/workspaces/datasciencetest_reco_plante/notebooks/Plant_V_Seg_all_features.csv\")"
   ]
  },
  {
   "cell_type": "code",
   "execution_count": null,
   "id": "3",
   "metadata": {},
   "outputs": [],
   "source": [
    "df.columns"
   ]
  },
  {
   "cell_type": "markdown",
   "id": "4",
   "metadata": {},
   "source": [
    "tableau identifiant les chevauchements avec IQR"
   ]
  },
  {
   "cell_type": "code",
   "execution_count": null,
   "id": "5",
   "metadata": {},
   "outputs": [],
   "source": [
    "# Génération d'un tableau identifiant les chevauchements avec IQR\n",
    "\n",
    "def iqr_overlap_table(df, features, label_col=\"disease_label\", healthy_label=\"healthy\"):\n",
    "    \"\"\"\n",
    "    Renvoie un DataFrame listant, pour chaque feature,\n",
    "    les maladies dont l'IQR chevauche celui de 'healthy'.\n",
    "    \"\"\"\n",
    "    results = []\n",
    "    diseases = [d for d in df[label_col].unique() if d != healthy_label]\n",
    "\n",
    "    for feat in features:\n",
    "        q1_h, q3_h = df.loc[df[label_col]==healthy_label, feat].quantile([0.25, 0.75])\n",
    "        overlap_maladies = []\n",
    "        for disease in diseases:\n",
    "            q1_m, q3_m = df.loc[df[label_col]==disease, feat].quantile([0.25, 0.75])\n",
    "            # Condition de chevauchement\n",
    "            if (q1_h < q3_m) and (q3_h > q1_m):\n",
    "                overlap_maladies.append(disease)\n",
    "        results.append({\n",
    "            \"feature\": feat,\n",
    "            \"overlapping_diseases\": overlap_maladies,\n",
    "            \"n_overlap\": len(overlap_maladies)\n",
    "        })\n",
    "    # On retourne un DataFrame trié par n_overlap décroissant\n",
    "    return pd.DataFrame(results).sort_values(\"n_overlap\", ascending=False)\n",
    "\n",
    "# --- Préparation de 'disease_label' \n",
    "disease_cols = [c for c in df.columns if c.startswith(\"disease_\")]\n",
    "mask_d = df[disease_cols].applymap(lambda x: x is True or x == 1)\n",
    "idx_d  = mask_d.values.argmax(axis=1)\n",
    "df[\"disease_label\"] = [disease_cols[i].replace(\"disease_\", \"\") for i in idx_d]\n",
    "\n",
    "features = [\n",
    "    'contrast', 'energy', 'homogeneity', 'dissimilarite', 'Correlation',\n",
    "    'mean_H', 'mean_S', 'mean_V', 'std_R', 'std_G', 'std_B',\n",
    "    'hu_1', 'hu_2', 'hu_3', 'hu_4', 'hu_5', 'hu_6', 'hu_7'\n",
    "]\n",
    "\n",
    "overlap_df = iqr_overlap_table(df, features, label_col=\"disease_label\", healthy_label=\"healthy\")\n",
    "pd.set_option('display.max_colwidth', 120)  # Pour voir les maladies en entier\n",
    "print(overlap_df[[\"feature\", \"overlapping_diseases\", \"n_overlap\"]])\n",
    "overlap_df.to_excel(\"Results_chevauchements_IQR.xlsx\", index=False)\n"
   ]
  },
  {
   "cell_type": "code",
   "execution_count": null,
   "id": "6",
   "metadata": {},
   "outputs": [],
   "source": []
  }
 ],
 "metadata": {
  "kernelspec": {
   "display_name": "conda_env",
   "language": "python",
   "name": "python3"
  },
  "language_info": {
   "codemirror_mode": {
    "name": "ipython",
    "version": 3
   },
   "file_extension": ".py",
   "mimetype": "text/x-python",
   "name": "python",
   "nbconvert_exporter": "python",
   "pygments_lexer": "ipython3",
   "version": "3.11.13"
  }
 },
 "nbformat": 4,
 "nbformat_minor": 5
}
