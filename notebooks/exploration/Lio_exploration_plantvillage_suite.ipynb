{
 "cells": [
  {
   "cell_type": "code",
   "execution_count": 10,
   "id": "11070384",
   "metadata": {},
   "outputs": [],
   "source": [
    "from pathlib import Path\n",
    "import pandas as pd\n",
    "import plotly.express as px\n"
   ]
  },
  {
   "cell_type": "code",
   "execution_count": 11,
   "id": "512988c3",
   "metadata": {},
   "outputs": [],
   "source": [
    "def count_files_by_species(dataset_root: str):\n",
    "    \"\"\"\n",
    "    Parcourt les sous-dossiers 'color', 'grayscale' et 'segmented' du dataset PlantVillage\n",
    "    et retourne un DataFrame avec le nombre de fichiers par espèce et par modalité.\n",
    "    \"\"\"\n",
    "    root = Path(dataset_root)\n",
    "    modalities = ['color', 'grayscale', 'segmented']\n",
    "    records = []\n",
    "\n",
    "    for mod in modalities:\n",
    "        mod_path = root / mod\n",
    "        if not mod_path.exists():\n",
    "            print(f\"⚠️ Le dossier {mod_path} n'existe pas.\")\n",
    "            continue\n",
    "\n",
    "        for class_dir in mod_path.iterdir():\n",
    "            if class_dir.is_dir():\n",
    "                species = class_dir.name.split('___')[0]\n",
    "                count = sum(1 for f in class_dir.iterdir() if f.is_file())\n",
    "                records.append({'species': species, 'modality': mod, 'count': count})\n",
    "\n",
    "    df = pd.DataFrame(records)\n",
    "    # Pivot si vous préférez un format espèces×modalité :\n",
    "    pivot = df.pivot_table(index='species', columns='modality', values='count', fill_value=0)\n",
    "    return df, pivot\n",
    "\n",
    "    "
   ]
  },
  {
   "cell_type": "code",
   "execution_count": 12,
   "id": "cc4ec1ed",
   "metadata": {},
   "outputs": [
    {
     "data": {
      "application/vnd.plotly.v1+json": {
       "config": {
        "plotlyServerURL": "https://plot.ly"
       },
       "data": [
        {
         "bingroup": "x",
         "hovertemplate": "Modalité=segmented<br>Nombre d'images=%{x}<br>count=%{y}<extra></extra>",
         "legendgroup": "segmented",
         "marker": {
          "color": "#636efa",
          "opacity": 0.5,
          "pattern": {
           "shape": ""
          }
         },
         "name": "segmented",
         "nbinsx": 50,
         "orientation": "v",
         "showlegend": true,
         "type": "histogram",
         "x": {
          "bdata": "dQGnAYMVHAQ0BCsH5QN8BXYCdQf5CMYF6wa4A+gD4hPtFIoEAQI3BpgA6APZA6gEjAZzAVYD3gXoA1UEaAVtBsgBnAQTAU8IbQJoAQ==",
          "dtype": "i2"
         },
         "xaxis": "x",
         "yaxis": "y"
        },
        {
         "bingroup": "x",
         "hovertemplate": "Modalité=color<br>Nombre d'images=%{x}<br>count=%{y}<extra></extra>",
         "legendgroup": "color",
         "marker": {
          "color": "#EF553B",
          "opacity": 0.5,
          "pattern": {
           "shape": ""
          }
         },
         "name": "color",
         "nbinsx": 50,
         "orientation": "v",
         "showlegend": true,
         "type": "histogram",
         "x": {
          "bdata": "dQGnAYMVHAQ0BCsH5QN8BXYCdQf5CMYF6wa4A+gD4hPtFIoEAQI3BpgA6APZA6gEjAZzAVYD3gXoA1UEZwVtBsgBnAQTAU8IbQJoAQ==",
          "dtype": "i2"
         },
         "xaxis": "x",
         "yaxis": "y"
        },
        {
         "bingroup": "x",
         "hovertemplate": "Modalité=grayscale<br>Nombre d'images=%{x}<br>count=%{y}<extra></extra>",
         "legendgroup": "grayscale",
         "marker": {
          "color": "#00cc96",
          "opacity": 0.5,
          "pattern": {
           "shape": ""
          }
         },
         "name": "grayscale",
         "nbinsx": 50,
         "orientation": "v",
         "showlegend": true,
         "type": "histogram",
         "x": {
          "bdata": "dQGnAYMVHAQ0BCsH5QN8BXYCdQf5CMYF6wa4A+gD4hPtFIoEAQI3BpgA6APZA6gEjAZzAVYD3gXoA1UEZwVtBsgBnAQTAU8IbQJoAQ==",
          "dtype": "i2"
         },
         "xaxis": "x",
         "yaxis": "y"
        }
       ],
       "layout": {
        "barmode": "overlay",
        "legend": {
         "title": {
          "text": "Modalité"
         },
         "tracegroupgap": 0
        },
        "template": {
         "data": {
          "bar": [
           {
            "error_x": {
             "color": "#2a3f5f"
            },
            "error_y": {
             "color": "#2a3f5f"
            },
            "marker": {
             "line": {
              "color": "#E5ECF6",
              "width": 0.5
             },
             "pattern": {
              "fillmode": "overlay",
              "size": 10,
              "solidity": 0.2
             }
            },
            "type": "bar"
           }
          ],
          "barpolar": [
           {
            "marker": {
             "line": {
              "color": "#E5ECF6",
              "width": 0.5
             },
             "pattern": {
              "fillmode": "overlay",
              "size": 10,
              "solidity": 0.2
             }
            },
            "type": "barpolar"
           }
          ],
          "carpet": [
           {
            "aaxis": {
             "endlinecolor": "#2a3f5f",
             "gridcolor": "white",
             "linecolor": "white",
             "minorgridcolor": "white",
             "startlinecolor": "#2a3f5f"
            },
            "baxis": {
             "endlinecolor": "#2a3f5f",
             "gridcolor": "white",
             "linecolor": "white",
             "minorgridcolor": "white",
             "startlinecolor": "#2a3f5f"
            },
            "type": "carpet"
           }
          ],
          "choropleth": [
           {
            "colorbar": {
             "outlinewidth": 0,
             "ticks": ""
            },
            "type": "choropleth"
           }
          ],
          "contour": [
           {
            "colorbar": {
             "outlinewidth": 0,
             "ticks": ""
            },
            "colorscale": [
             [
              0,
              "#0d0887"
             ],
             [
              0.1111111111111111,
              "#46039f"
             ],
             [
              0.2222222222222222,
              "#7201a8"
             ],
             [
              0.3333333333333333,
              "#9c179e"
             ],
             [
              0.4444444444444444,
              "#bd3786"
             ],
             [
              0.5555555555555556,
              "#d8576b"
             ],
             [
              0.6666666666666666,
              "#ed7953"
             ],
             [
              0.7777777777777778,
              "#fb9f3a"
             ],
             [
              0.8888888888888888,
              "#fdca26"
             ],
             [
              1,
              "#f0f921"
             ]
            ],
            "type": "contour"
           }
          ],
          "contourcarpet": [
           {
            "colorbar": {
             "outlinewidth": 0,
             "ticks": ""
            },
            "type": "contourcarpet"
           }
          ],
          "heatmap": [
           {
            "colorbar": {
             "outlinewidth": 0,
             "ticks": ""
            },
            "colorscale": [
             [
              0,
              "#0d0887"
             ],
             [
              0.1111111111111111,
              "#46039f"
             ],
             [
              0.2222222222222222,
              "#7201a8"
             ],
             [
              0.3333333333333333,
              "#9c179e"
             ],
             [
              0.4444444444444444,
              "#bd3786"
             ],
             [
              0.5555555555555556,
              "#d8576b"
             ],
             [
              0.6666666666666666,
              "#ed7953"
             ],
             [
              0.7777777777777778,
              "#fb9f3a"
             ],
             [
              0.8888888888888888,
              "#fdca26"
             ],
             [
              1,
              "#f0f921"
             ]
            ],
            "type": "heatmap"
           }
          ],
          "histogram": [
           {
            "marker": {
             "pattern": {
              "fillmode": "overlay",
              "size": 10,
              "solidity": 0.2
             }
            },
            "type": "histogram"
           }
          ],
          "histogram2d": [
           {
            "colorbar": {
             "outlinewidth": 0,
             "ticks": ""
            },
            "colorscale": [
             [
              0,
              "#0d0887"
             ],
             [
              0.1111111111111111,
              "#46039f"
             ],
             [
              0.2222222222222222,
              "#7201a8"
             ],
             [
              0.3333333333333333,
              "#9c179e"
             ],
             [
              0.4444444444444444,
              "#bd3786"
             ],
             [
              0.5555555555555556,
              "#d8576b"
             ],
             [
              0.6666666666666666,
              "#ed7953"
             ],
             [
              0.7777777777777778,
              "#fb9f3a"
             ],
             [
              0.8888888888888888,
              "#fdca26"
             ],
             [
              1,
              "#f0f921"
             ]
            ],
            "type": "histogram2d"
           }
          ],
          "histogram2dcontour": [
           {
            "colorbar": {
             "outlinewidth": 0,
             "ticks": ""
            },
            "colorscale": [
             [
              0,
              "#0d0887"
             ],
             [
              0.1111111111111111,
              "#46039f"
             ],
             [
              0.2222222222222222,
              "#7201a8"
             ],
             [
              0.3333333333333333,
              "#9c179e"
             ],
             [
              0.4444444444444444,
              "#bd3786"
             ],
             [
              0.5555555555555556,
              "#d8576b"
             ],
             [
              0.6666666666666666,
              "#ed7953"
             ],
             [
              0.7777777777777778,
              "#fb9f3a"
             ],
             [
              0.8888888888888888,
              "#fdca26"
             ],
             [
              1,
              "#f0f921"
             ]
            ],
            "type": "histogram2dcontour"
           }
          ],
          "mesh3d": [
           {
            "colorbar": {
             "outlinewidth": 0,
             "ticks": ""
            },
            "type": "mesh3d"
           }
          ],
          "parcoords": [
           {
            "line": {
             "colorbar": {
              "outlinewidth": 0,
              "ticks": ""
             }
            },
            "type": "parcoords"
           }
          ],
          "pie": [
           {
            "automargin": true,
            "type": "pie"
           }
          ],
          "scatter": [
           {
            "fillpattern": {
             "fillmode": "overlay",
             "size": 10,
             "solidity": 0.2
            },
            "type": "scatter"
           }
          ],
          "scatter3d": [
           {
            "line": {
             "colorbar": {
              "outlinewidth": 0,
              "ticks": ""
             }
            },
            "marker": {
             "colorbar": {
              "outlinewidth": 0,
              "ticks": ""
             }
            },
            "type": "scatter3d"
           }
          ],
          "scattercarpet": [
           {
            "marker": {
             "colorbar": {
              "outlinewidth": 0,
              "ticks": ""
             }
            },
            "type": "scattercarpet"
           }
          ],
          "scattergeo": [
           {
            "marker": {
             "colorbar": {
              "outlinewidth": 0,
              "ticks": ""
             }
            },
            "type": "scattergeo"
           }
          ],
          "scattergl": [
           {
            "marker": {
             "colorbar": {
              "outlinewidth": 0,
              "ticks": ""
             }
            },
            "type": "scattergl"
           }
          ],
          "scattermap": [
           {
            "marker": {
             "colorbar": {
              "outlinewidth": 0,
              "ticks": ""
             }
            },
            "type": "scattermap"
           }
          ],
          "scattermapbox": [
           {
            "marker": {
             "colorbar": {
              "outlinewidth": 0,
              "ticks": ""
             }
            },
            "type": "scattermapbox"
           }
          ],
          "scatterpolar": [
           {
            "marker": {
             "colorbar": {
              "outlinewidth": 0,
              "ticks": ""
             }
            },
            "type": "scatterpolar"
           }
          ],
          "scatterpolargl": [
           {
            "marker": {
             "colorbar": {
              "outlinewidth": 0,
              "ticks": ""
             }
            },
            "type": "scatterpolargl"
           }
          ],
          "scatterternary": [
           {
            "marker": {
             "colorbar": {
              "outlinewidth": 0,
              "ticks": ""
             }
            },
            "type": "scatterternary"
           }
          ],
          "surface": [
           {
            "colorbar": {
             "outlinewidth": 0,
             "ticks": ""
            },
            "colorscale": [
             [
              0,
              "#0d0887"
             ],
             [
              0.1111111111111111,
              "#46039f"
             ],
             [
              0.2222222222222222,
              "#7201a8"
             ],
             [
              0.3333333333333333,
              "#9c179e"
             ],
             [
              0.4444444444444444,
              "#bd3786"
             ],
             [
              0.5555555555555556,
              "#d8576b"
             ],
             [
              0.6666666666666666,
              "#ed7953"
             ],
             [
              0.7777777777777778,
              "#fb9f3a"
             ],
             [
              0.8888888888888888,
              "#fdca26"
             ],
             [
              1,
              "#f0f921"
             ]
            ],
            "type": "surface"
           }
          ],
          "table": [
           {
            "cells": {
             "fill": {
              "color": "#EBF0F8"
             },
             "line": {
              "color": "white"
             }
            },
            "header": {
             "fill": {
              "color": "#C8D4E3"
             },
             "line": {
              "color": "white"
             }
            },
            "type": "table"
           }
          ]
         },
         "layout": {
          "annotationdefaults": {
           "arrowcolor": "#2a3f5f",
           "arrowhead": 0,
           "arrowwidth": 1
          },
          "autotypenumbers": "strict",
          "coloraxis": {
           "colorbar": {
            "outlinewidth": 0,
            "ticks": ""
           }
          },
          "colorscale": {
           "diverging": [
            [
             0,
             "#8e0152"
            ],
            [
             0.1,
             "#c51b7d"
            ],
            [
             0.2,
             "#de77ae"
            ],
            [
             0.3,
             "#f1b6da"
            ],
            [
             0.4,
             "#fde0ef"
            ],
            [
             0.5,
             "#f7f7f7"
            ],
            [
             0.6,
             "#e6f5d0"
            ],
            [
             0.7,
             "#b8e186"
            ],
            [
             0.8,
             "#7fbc41"
            ],
            [
             0.9,
             "#4d9221"
            ],
            [
             1,
             "#276419"
            ]
           ],
           "sequential": [
            [
             0,
             "#0d0887"
            ],
            [
             0.1111111111111111,
             "#46039f"
            ],
            [
             0.2222222222222222,
             "#7201a8"
            ],
            [
             0.3333333333333333,
             "#9c179e"
            ],
            [
             0.4444444444444444,
             "#bd3786"
            ],
            [
             0.5555555555555556,
             "#d8576b"
            ],
            [
             0.6666666666666666,
             "#ed7953"
            ],
            [
             0.7777777777777778,
             "#fb9f3a"
            ],
            [
             0.8888888888888888,
             "#fdca26"
            ],
            [
             1,
             "#f0f921"
            ]
           ],
           "sequentialminus": [
            [
             0,
             "#0d0887"
            ],
            [
             0.1111111111111111,
             "#46039f"
            ],
            [
             0.2222222222222222,
             "#7201a8"
            ],
            [
             0.3333333333333333,
             "#9c179e"
            ],
            [
             0.4444444444444444,
             "#bd3786"
            ],
            [
             0.5555555555555556,
             "#d8576b"
            ],
            [
             0.6666666666666666,
             "#ed7953"
            ],
            [
             0.7777777777777778,
             "#fb9f3a"
            ],
            [
             0.8888888888888888,
             "#fdca26"
            ],
            [
             1,
             "#f0f921"
            ]
           ]
          },
          "colorway": [
           "#636efa",
           "#EF553B",
           "#00cc96",
           "#ab63fa",
           "#FFA15A",
           "#19d3f3",
           "#FF6692",
           "#B6E880",
           "#FF97FF",
           "#FECB52"
          ],
          "font": {
           "color": "#2a3f5f"
          },
          "geo": {
           "bgcolor": "white",
           "lakecolor": "white",
           "landcolor": "#E5ECF6",
           "showlakes": true,
           "showland": true,
           "subunitcolor": "white"
          },
          "hoverlabel": {
           "align": "left"
          },
          "hovermode": "closest",
          "mapbox": {
           "style": "light"
          },
          "paper_bgcolor": "white",
          "plot_bgcolor": "#E5ECF6",
          "polar": {
           "angularaxis": {
            "gridcolor": "white",
            "linecolor": "white",
            "ticks": ""
           },
           "bgcolor": "#E5ECF6",
           "radialaxis": {
            "gridcolor": "white",
            "linecolor": "white",
            "ticks": ""
           }
          },
          "scene": {
           "xaxis": {
            "backgroundcolor": "#E5ECF6",
            "gridcolor": "white",
            "gridwidth": 2,
            "linecolor": "white",
            "showbackground": true,
            "ticks": "",
            "zerolinecolor": "white"
           },
           "yaxis": {
            "backgroundcolor": "#E5ECF6",
            "gridcolor": "white",
            "gridwidth": 2,
            "linecolor": "white",
            "showbackground": true,
            "ticks": "",
            "zerolinecolor": "white"
           },
           "zaxis": {
            "backgroundcolor": "#E5ECF6",
            "gridcolor": "white",
            "gridwidth": 2,
            "linecolor": "white",
            "showbackground": true,
            "ticks": "",
            "zerolinecolor": "white"
           }
          },
          "shapedefaults": {
           "line": {
            "color": "#2a3f5f"
           }
          },
          "ternary": {
           "aaxis": {
            "gridcolor": "white",
            "linecolor": "white",
            "ticks": ""
           },
           "baxis": {
            "gridcolor": "white",
            "linecolor": "white",
            "ticks": ""
           },
           "bgcolor": "#E5ECF6",
           "caxis": {
            "gridcolor": "white",
            "linecolor": "white",
            "ticks": ""
           }
          },
          "title": {
           "x": 0.05
          },
          "xaxis": {
           "automargin": true,
           "gridcolor": "white",
           "linecolor": "white",
           "ticks": "",
           "title": {
            "standoff": 15
           },
           "zerolinecolor": "white",
           "zerolinewidth": 2
          },
          "yaxis": {
           "automargin": true,
           "gridcolor": "white",
           "linecolor": "white",
           "ticks": "",
           "title": {
            "standoff": 15
           },
           "zerolinecolor": "white",
           "zerolinewidth": 2
          }
         }
        },
        "title": {
         "text": "Distribution du nombre d'images par espèce et modalité"
        },
        "xaxis": {
         "anchor": "y",
         "domain": [
          0,
          1
         ],
         "title": {
          "text": "Nombre d'images par espèce"
         }
        },
        "yaxis": {
         "anchor": "x",
         "domain": [
          0,
          1
         ],
         "title": {
          "text": "Nombre d'espèces"
         }
        }
       }
      }
     },
     "metadata": {},
     "output_type": "display_data"
    },
    {
     "data": {
      "application/vnd.plotly.v1+json": {
       "config": {
        "plotlyServerURL": "https://plot.ly"
       },
       "data": [
        {
         "hovertemplate": "modality=color<br>species=%{x}<br>count=%{y}<extra></extra>",
         "legendgroup": "color",
         "marker": {
          "color": "#636efa",
          "pattern": {
           "shape": ""
          }
         },
         "name": "color",
         "orientation": "v",
         "showlegend": true,
         "textposition": "auto",
         "type": "bar",
         "x": [
          "Apple___Apple_scab",
          "Apple___Black_rot",
          "Apple___Cedar_apple_rust",
          "Apple___healthy",
          "Blueberry___healthy",
          "Cherry_(including_sour)___Powdery_mildew",
          "Cherry_(including_sour)___healthy",
          "Corn_(maize)___Cercospora_leaf_spot Gray_leaf_spot",
          "Corn_(maize)___Common_rust_",
          "Corn_(maize)___Northern_Leaf_Blight",
          "Corn_(maize)___healthy",
          "Grape___Black_rot",
          "Grape___Esca_(Black_Measles)",
          "Grape___Leaf_blight_(Isariopsis_Leaf_Spot)",
          "Grape___healthy",
          "Orange___Haunglongbing_(Citrus_greening)",
          "Peach___Bacterial_spot",
          "Peach___healthy",
          "Pepper,_bell___Bacterial_spot",
          "Pepper,_bell___healthy",
          "Potato___Early_blight",
          "Potato___Late_blight",
          "Potato___healthy",
          "Raspberry___healthy",
          "Soybean___healthy",
          "Squash___Powdery_mildew",
          "Strawberry___Leaf_scorch",
          "Strawberry___healthy",
          "Tomato___Bacterial_spot",
          "Tomato___Early_blight",
          "Tomato___Late_blight",
          "Tomato___Leaf_Mold",
          "Tomato___Septoria_leaf_spot",
          "Tomato___Spider_mites Two-spotted_spider_mite",
          "Tomato___Target_Spot",
          "Tomato___Tomato_Yellow_Leaf_Curl_Virus",
          "Tomato___Tomato_mosaic_virus",
          "Tomato___healthy"
         ],
         "xaxis": "x",
         "y": {
          "bdata": "dgJtAhMBbQbeBRwEVgMBAqgE2QOKBJwEZwU0BKcBgxX5CGgB5QPGBegD6AOYAHMB4hMrB1UEyAFPCOgDdQe4A+sGjAZ8Be0UdQE3Bg==",
          "dtype": "i2"
         },
         "yaxis": "y"
        },
        {
         "hovertemplate": "modality=grayscale<br>species=%{x}<br>count=%{y}<extra></extra>",
         "legendgroup": "grayscale",
         "marker": {
          "color": "#EF553B",
          "pattern": {
           "shape": ""
          }
         },
         "name": "grayscale",
         "orientation": "v",
         "showlegend": true,
         "textposition": "auto",
         "type": "bar",
         "x": [
          "Apple___Apple_scab",
          "Apple___Black_rot",
          "Apple___Cedar_apple_rust",
          "Apple___healthy",
          "Blueberry___healthy",
          "Cherry_(including_sour)___Powdery_mildew",
          "Cherry_(including_sour)___healthy",
          "Corn_(maize)___Cercospora_leaf_spot Gray_leaf_spot",
          "Corn_(maize)___Common_rust_",
          "Corn_(maize)___Northern_Leaf_Blight",
          "Corn_(maize)___healthy",
          "Grape___Black_rot",
          "Grape___Esca_(Black_Measles)",
          "Grape___Leaf_blight_(Isariopsis_Leaf_Spot)",
          "Grape___healthy",
          "Orange___Haunglongbing_(Citrus_greening)",
          "Peach___Bacterial_spot",
          "Peach___healthy",
          "Pepper,_bell___Bacterial_spot",
          "Pepper,_bell___healthy",
          "Potato___Early_blight",
          "Potato___Late_blight",
          "Potato___healthy",
          "Raspberry___healthy",
          "Soybean___healthy",
          "Squash___Powdery_mildew",
          "Strawberry___Leaf_scorch",
          "Strawberry___healthy",
          "Tomato___Bacterial_spot",
          "Tomato___Early_blight",
          "Tomato___Late_blight",
          "Tomato___Leaf_Mold",
          "Tomato___Septoria_leaf_spot",
          "Tomato___Spider_mites Two-spotted_spider_mite",
          "Tomato___Target_Spot",
          "Tomato___Tomato_Yellow_Leaf_Curl_Virus",
          "Tomato___Tomato_mosaic_virus",
          "Tomato___healthy"
         ],
         "xaxis": "x",
         "y": {
          "bdata": "dgJtAhMBbQbeBRwEVgMBAqgE2QOKBJwEZwU0BKcBgxX5CGgB5QPGBegD6AOYAHMB4hMrB1UEyAFPCOgDdQe4A+sGjAZ8Be0UdQE3Bg==",
          "dtype": "i2"
         },
         "yaxis": "y"
        },
        {
         "hovertemplate": "modality=segmented<br>species=%{x}<br>count=%{y}<extra></extra>",
         "legendgroup": "segmented",
         "marker": {
          "color": "#00cc96",
          "pattern": {
           "shape": ""
          }
         },
         "name": "segmented",
         "orientation": "v",
         "showlegend": true,
         "textposition": "auto",
         "type": "bar",
         "x": [
          "Apple___Apple_scab",
          "Apple___Black_rot",
          "Apple___Cedar_apple_rust",
          "Apple___healthy",
          "Blueberry___healthy",
          "Cherry_(including_sour)___Powdery_mildew",
          "Cherry_(including_sour)___healthy",
          "Corn_(maize)___Cercospora_leaf_spot Gray_leaf_spot",
          "Corn_(maize)___Common_rust_",
          "Corn_(maize)___Northern_Leaf_Blight",
          "Corn_(maize)___healthy",
          "Grape___Black_rot",
          "Grape___Esca_(Black_Measles)",
          "Grape___Leaf_blight_(Isariopsis_Leaf_Spot)",
          "Grape___healthy",
          "Orange___Haunglongbing_(Citrus_greening)",
          "Peach___Bacterial_spot",
          "Peach___healthy",
          "Pepper,_bell___Bacterial_spot",
          "Pepper,_bell___healthy",
          "Potato___Early_blight",
          "Potato___Late_blight",
          "Potato___healthy",
          "Raspberry___healthy",
          "Soybean___healthy",
          "Squash___Powdery_mildew",
          "Strawberry___Leaf_scorch",
          "Strawberry___healthy",
          "Tomato___Bacterial_spot",
          "Tomato___Early_blight",
          "Tomato___Late_blight",
          "Tomato___Leaf_Mold",
          "Tomato___Septoria_leaf_spot",
          "Tomato___Spider_mites Two-spotted_spider_mite",
          "Tomato___Target_Spot",
          "Tomato___Tomato_Yellow_Leaf_Curl_Virus",
          "Tomato___Tomato_mosaic_virus",
          "Tomato___healthy"
         ],
         "xaxis": "x",
         "y": {
          "bdata": "dgJtAhMBbQbeBRwEVgMBAqgE2QOKBJwEaAU0BKcBgxX5CGgB5QPGBegD6AOYAHMB4hMrB1UEyAFPCOgDdQe4A+sGjAZ8Be0UdQE3Bg==",
          "dtype": "i2"
         },
         "yaxis": "y"
        }
       ],
       "layout": {
        "barmode": "relative",
        "legend": {
         "title": {
          "text": "Modalité"
         },
         "tracegroupgap": 0
        },
        "template": {
         "data": {
          "bar": [
           {
            "error_x": {
             "color": "#2a3f5f"
            },
            "error_y": {
             "color": "#2a3f5f"
            },
            "marker": {
             "line": {
              "color": "#E5ECF6",
              "width": 0.5
             },
             "pattern": {
              "fillmode": "overlay",
              "size": 10,
              "solidity": 0.2
             }
            },
            "type": "bar"
           }
          ],
          "barpolar": [
           {
            "marker": {
             "line": {
              "color": "#E5ECF6",
              "width": 0.5
             },
             "pattern": {
              "fillmode": "overlay",
              "size": 10,
              "solidity": 0.2
             }
            },
            "type": "barpolar"
           }
          ],
          "carpet": [
           {
            "aaxis": {
             "endlinecolor": "#2a3f5f",
             "gridcolor": "white",
             "linecolor": "white",
             "minorgridcolor": "white",
             "startlinecolor": "#2a3f5f"
            },
            "baxis": {
             "endlinecolor": "#2a3f5f",
             "gridcolor": "white",
             "linecolor": "white",
             "minorgridcolor": "white",
             "startlinecolor": "#2a3f5f"
            },
            "type": "carpet"
           }
          ],
          "choropleth": [
           {
            "colorbar": {
             "outlinewidth": 0,
             "ticks": ""
            },
            "type": "choropleth"
           }
          ],
          "contour": [
           {
            "colorbar": {
             "outlinewidth": 0,
             "ticks": ""
            },
            "colorscale": [
             [
              0,
              "#0d0887"
             ],
             [
              0.1111111111111111,
              "#46039f"
             ],
             [
              0.2222222222222222,
              "#7201a8"
             ],
             [
              0.3333333333333333,
              "#9c179e"
             ],
             [
              0.4444444444444444,
              "#bd3786"
             ],
             [
              0.5555555555555556,
              "#d8576b"
             ],
             [
              0.6666666666666666,
              "#ed7953"
             ],
             [
              0.7777777777777778,
              "#fb9f3a"
             ],
             [
              0.8888888888888888,
              "#fdca26"
             ],
             [
              1,
              "#f0f921"
             ]
            ],
            "type": "contour"
           }
          ],
          "contourcarpet": [
           {
            "colorbar": {
             "outlinewidth": 0,
             "ticks": ""
            },
            "type": "contourcarpet"
           }
          ],
          "heatmap": [
           {
            "colorbar": {
             "outlinewidth": 0,
             "ticks": ""
            },
            "colorscale": [
             [
              0,
              "#0d0887"
             ],
             [
              0.1111111111111111,
              "#46039f"
             ],
             [
              0.2222222222222222,
              "#7201a8"
             ],
             [
              0.3333333333333333,
              "#9c179e"
             ],
             [
              0.4444444444444444,
              "#bd3786"
             ],
             [
              0.5555555555555556,
              "#d8576b"
             ],
             [
              0.6666666666666666,
              "#ed7953"
             ],
             [
              0.7777777777777778,
              "#fb9f3a"
             ],
             [
              0.8888888888888888,
              "#fdca26"
             ],
             [
              1,
              "#f0f921"
             ]
            ],
            "type": "heatmap"
           }
          ],
          "histogram": [
           {
            "marker": {
             "pattern": {
              "fillmode": "overlay",
              "size": 10,
              "solidity": 0.2
             }
            },
            "type": "histogram"
           }
          ],
          "histogram2d": [
           {
            "colorbar": {
             "outlinewidth": 0,
             "ticks": ""
            },
            "colorscale": [
             [
              0,
              "#0d0887"
             ],
             [
              0.1111111111111111,
              "#46039f"
             ],
             [
              0.2222222222222222,
              "#7201a8"
             ],
             [
              0.3333333333333333,
              "#9c179e"
             ],
             [
              0.4444444444444444,
              "#bd3786"
             ],
             [
              0.5555555555555556,
              "#d8576b"
             ],
             [
              0.6666666666666666,
              "#ed7953"
             ],
             [
              0.7777777777777778,
              "#fb9f3a"
             ],
             [
              0.8888888888888888,
              "#fdca26"
             ],
             [
              1,
              "#f0f921"
             ]
            ],
            "type": "histogram2d"
           }
          ],
          "histogram2dcontour": [
           {
            "colorbar": {
             "outlinewidth": 0,
             "ticks": ""
            },
            "colorscale": [
             [
              0,
              "#0d0887"
             ],
             [
              0.1111111111111111,
              "#46039f"
             ],
             [
              0.2222222222222222,
              "#7201a8"
             ],
             [
              0.3333333333333333,
              "#9c179e"
             ],
             [
              0.4444444444444444,
              "#bd3786"
             ],
             [
              0.5555555555555556,
              "#d8576b"
             ],
             [
              0.6666666666666666,
              "#ed7953"
             ],
             [
              0.7777777777777778,
              "#fb9f3a"
             ],
             [
              0.8888888888888888,
              "#fdca26"
             ],
             [
              1,
              "#f0f921"
             ]
            ],
            "type": "histogram2dcontour"
           }
          ],
          "mesh3d": [
           {
            "colorbar": {
             "outlinewidth": 0,
             "ticks": ""
            },
            "type": "mesh3d"
           }
          ],
          "parcoords": [
           {
            "line": {
             "colorbar": {
              "outlinewidth": 0,
              "ticks": ""
             }
            },
            "type": "parcoords"
           }
          ],
          "pie": [
           {
            "automargin": true,
            "type": "pie"
           }
          ],
          "scatter": [
           {
            "fillpattern": {
             "fillmode": "overlay",
             "size": 10,
             "solidity": 0.2
            },
            "type": "scatter"
           }
          ],
          "scatter3d": [
           {
            "line": {
             "colorbar": {
              "outlinewidth": 0,
              "ticks": ""
             }
            },
            "marker": {
             "colorbar": {
              "outlinewidth": 0,
              "ticks": ""
             }
            },
            "type": "scatter3d"
           }
          ],
          "scattercarpet": [
           {
            "marker": {
             "colorbar": {
              "outlinewidth": 0,
              "ticks": ""
             }
            },
            "type": "scattercarpet"
           }
          ],
          "scattergeo": [
           {
            "marker": {
             "colorbar": {
              "outlinewidth": 0,
              "ticks": ""
             }
            },
            "type": "scattergeo"
           }
          ],
          "scattergl": [
           {
            "marker": {
             "colorbar": {
              "outlinewidth": 0,
              "ticks": ""
             }
            },
            "type": "scattergl"
           }
          ],
          "scattermap": [
           {
            "marker": {
             "colorbar": {
              "outlinewidth": 0,
              "ticks": ""
             }
            },
            "type": "scattermap"
           }
          ],
          "scattermapbox": [
           {
            "marker": {
             "colorbar": {
              "outlinewidth": 0,
              "ticks": ""
             }
            },
            "type": "scattermapbox"
           }
          ],
          "scatterpolar": [
           {
            "marker": {
             "colorbar": {
              "outlinewidth": 0,
              "ticks": ""
             }
            },
            "type": "scatterpolar"
           }
          ],
          "scatterpolargl": [
           {
            "marker": {
             "colorbar": {
              "outlinewidth": 0,
              "ticks": ""
             }
            },
            "type": "scatterpolargl"
           }
          ],
          "scatterternary": [
           {
            "marker": {
             "colorbar": {
              "outlinewidth": 0,
              "ticks": ""
             }
            },
            "type": "scatterternary"
           }
          ],
          "surface": [
           {
            "colorbar": {
             "outlinewidth": 0,
             "ticks": ""
            },
            "colorscale": [
             [
              0,
              "#0d0887"
             ],
             [
              0.1111111111111111,
              "#46039f"
             ],
             [
              0.2222222222222222,
              "#7201a8"
             ],
             [
              0.3333333333333333,
              "#9c179e"
             ],
             [
              0.4444444444444444,
              "#bd3786"
             ],
             [
              0.5555555555555556,
              "#d8576b"
             ],
             [
              0.6666666666666666,
              "#ed7953"
             ],
             [
              0.7777777777777778,
              "#fb9f3a"
             ],
             [
              0.8888888888888888,
              "#fdca26"
             ],
             [
              1,
              "#f0f921"
             ]
            ],
            "type": "surface"
           }
          ],
          "table": [
           {
            "cells": {
             "fill": {
              "color": "#EBF0F8"
             },
             "line": {
              "color": "white"
             }
            },
            "header": {
             "fill": {
              "color": "#C8D4E3"
             },
             "line": {
              "color": "white"
             }
            },
            "type": "table"
           }
          ]
         },
         "layout": {
          "annotationdefaults": {
           "arrowcolor": "#2a3f5f",
           "arrowhead": 0,
           "arrowwidth": 1
          },
          "autotypenumbers": "strict",
          "coloraxis": {
           "colorbar": {
            "outlinewidth": 0,
            "ticks": ""
           }
          },
          "colorscale": {
           "diverging": [
            [
             0,
             "#8e0152"
            ],
            [
             0.1,
             "#c51b7d"
            ],
            [
             0.2,
             "#de77ae"
            ],
            [
             0.3,
             "#f1b6da"
            ],
            [
             0.4,
             "#fde0ef"
            ],
            [
             0.5,
             "#f7f7f7"
            ],
            [
             0.6,
             "#e6f5d0"
            ],
            [
             0.7,
             "#b8e186"
            ],
            [
             0.8,
             "#7fbc41"
            ],
            [
             0.9,
             "#4d9221"
            ],
            [
             1,
             "#276419"
            ]
           ],
           "sequential": [
            [
             0,
             "#0d0887"
            ],
            [
             0.1111111111111111,
             "#46039f"
            ],
            [
             0.2222222222222222,
             "#7201a8"
            ],
            [
             0.3333333333333333,
             "#9c179e"
            ],
            [
             0.4444444444444444,
             "#bd3786"
            ],
            [
             0.5555555555555556,
             "#d8576b"
            ],
            [
             0.6666666666666666,
             "#ed7953"
            ],
            [
             0.7777777777777778,
             "#fb9f3a"
            ],
            [
             0.8888888888888888,
             "#fdca26"
            ],
            [
             1,
             "#f0f921"
            ]
           ],
           "sequentialminus": [
            [
             0,
             "#0d0887"
            ],
            [
             0.1111111111111111,
             "#46039f"
            ],
            [
             0.2222222222222222,
             "#7201a8"
            ],
            [
             0.3333333333333333,
             "#9c179e"
            ],
            [
             0.4444444444444444,
             "#bd3786"
            ],
            [
             0.5555555555555556,
             "#d8576b"
            ],
            [
             0.6666666666666666,
             "#ed7953"
            ],
            [
             0.7777777777777778,
             "#fb9f3a"
            ],
            [
             0.8888888888888888,
             "#fdca26"
            ],
            [
             1,
             "#f0f921"
            ]
           ]
          },
          "colorway": [
           "#636efa",
           "#EF553B",
           "#00cc96",
           "#ab63fa",
           "#FFA15A",
           "#19d3f3",
           "#FF6692",
           "#B6E880",
           "#FF97FF",
           "#FECB52"
          ],
          "font": {
           "color": "#2a3f5f"
          },
          "geo": {
           "bgcolor": "white",
           "lakecolor": "white",
           "landcolor": "#E5ECF6",
           "showlakes": true,
           "showland": true,
           "subunitcolor": "white"
          },
          "hoverlabel": {
           "align": "left"
          },
          "hovermode": "closest",
          "mapbox": {
           "style": "light"
          },
          "paper_bgcolor": "white",
          "plot_bgcolor": "#E5ECF6",
          "polar": {
           "angularaxis": {
            "gridcolor": "white",
            "linecolor": "white",
            "ticks": ""
           },
           "bgcolor": "#E5ECF6",
           "radialaxis": {
            "gridcolor": "white",
            "linecolor": "white",
            "ticks": ""
           }
          },
          "scene": {
           "xaxis": {
            "backgroundcolor": "#E5ECF6",
            "gridcolor": "white",
            "gridwidth": 2,
            "linecolor": "white",
            "showbackground": true,
            "ticks": "",
            "zerolinecolor": "white"
           },
           "yaxis": {
            "backgroundcolor": "#E5ECF6",
            "gridcolor": "white",
            "gridwidth": 2,
            "linecolor": "white",
            "showbackground": true,
            "ticks": "",
            "zerolinecolor": "white"
           },
           "zaxis": {
            "backgroundcolor": "#E5ECF6",
            "gridcolor": "white",
            "gridwidth": 2,
            "linecolor": "white",
            "showbackground": true,
            "ticks": "",
            "zerolinecolor": "white"
           }
          },
          "shapedefaults": {
           "line": {
            "color": "#2a3f5f"
           }
          },
          "ternary": {
           "aaxis": {
            "gridcolor": "white",
            "linecolor": "white",
            "ticks": ""
           },
           "baxis": {
            "gridcolor": "white",
            "linecolor": "white",
            "ticks": ""
           },
           "bgcolor": "#E5ECF6",
           "caxis": {
            "gridcolor": "white",
            "linecolor": "white",
            "ticks": ""
           }
          },
          "title": {
           "x": 0.05
          },
          "xaxis": {
           "automargin": true,
           "gridcolor": "white",
           "linecolor": "white",
           "ticks": "",
           "title": {
            "standoff": 15
           },
           "zerolinecolor": "white",
           "zerolinewidth": 2
          },
          "yaxis": {
           "automargin": true,
           "gridcolor": "white",
           "linecolor": "white",
           "ticks": "",
           "title": {
            "standoff": 15
           },
           "zerolinecolor": "white",
           "zerolinewidth": 2
          }
         }
        },
        "title": {
         "text": "Nombre d'images par espèce et modalité (empilé)"
        },
        "xaxis": {
         "anchor": "y",
         "domain": [
          0,
          1
         ],
         "title": {
          "text": "Espèce"
         }
        },
        "yaxis": {
         "anchor": "x",
         "domain": [
          0,
          1
         ],
         "title": {
          "text": "Nombre d'images"
         }
        }
       }
      }
     },
     "metadata": {},
     "output_type": "display_data"
    }
   ],
   "source": [
    "from pathlib import Path\n",
    "import pandas as pd\n",
    "import plotly.express as px\n",
    "\n",
    "def count_files_by_species(dataset_root):\n",
    "    root_path = Path(dataset_root)\n",
    "    records = []\n",
    "    for modality_dir in root_path.iterdir():\n",
    "        if modality_dir.is_dir():\n",
    "            modality = modality_dir.name\n",
    "            for species_dir in modality_dir.iterdir():\n",
    "                if species_dir.is_dir():\n",
    "                    species = species_dir.name\n",
    "                    count = len(list(species_dir.glob('*')))\n",
    "                    records.append({'modality': modality, 'species': species, 'count': count})\n",
    "    df_records = pd.DataFrame(records)\n",
    "    df_pivot = df_records.pivot(index='species', columns='modality', values='count').fillna(0).astype(int)\n",
    "    return df_records, df_pivot\n",
    "\n",
    "dataset_root = '/workspaces/datasciencetest_reco_plante/dataset/plantvillage/data/plantvillage dataset'\n",
    "df_records, df_pivot = count_files_by_species(dataset_root)\n",
    "\n",
    "fig1 = px.histogram(\n",
    "    df_records,\n",
    "    x='count',\n",
    "    color='modality',\n",
    "    barmode='overlay',\n",
    "    nbins=50,\n",
    "    title=\"Distribution du nombre d'images par espèce et modalité\",\n",
    "    labels={'count': \"Nombre d'images\", 'modality': \"Modalité\"}\n",
    ")\n",
    "fig1.update_layout(\n",
    "    xaxis_title=\"Nombre d'images par espèce\",\n",
    "    yaxis_title=\"Nombre d'espèces\",\n",
    "    legend_title=\"Modalité\"\n",
    ")\n",
    "fig1.show()\n",
    "\n",
    "df_pivot_reset = df_pivot.reset_index().melt(id_vars='species', var_name='modality', value_name='count')\n",
    "\n",
    "fig2 = px.bar(\n",
    "    df_pivot_reset,\n",
    "    x='species',\n",
    "    y='count',\n",
    "    color='modality',\n",
    "    title=\"Nombre d'images par espèce et modalité (empilé)\"\n",
    ")\n",
    "fig2.update_layout(\n",
    "    xaxis_title=\"Espèce\",\n",
    "    yaxis_title=\"Nombre d'images\",\n",
    "    legend_title=\"Modalité\"\n",
    ")\n",
    "fig2.show()\n",
    "\n",
    "\n"
   ]
  },
  {
   "cell_type": "code",
   "execution_count": 13,
   "id": "04720d5e",
   "metadata": {},
   "outputs": [],
   "source": [
    "from pathlib import Path\n",
    "import pandas as pd\n",
    "from PIL import Image\n",
    "\n",
    "def list_image_paths(dataset_root):\n",
    "    \"\"\"\n",
    "    Crée un DataFrame avec les chemins des images du dataset,\n",
    "    ainsi que la modalité et l'espèce associées.\n",
    "    \"\"\"\n",
    "    root_path = Path(dataset_root)\n",
    "    records = []\n",
    "\n",
    "    for modality_dir in root_path.iterdir():\n",
    "        if modality_dir.is_dir():\n",
    "            modality = modality_dir.name\n",
    "            for species_dir in modality_dir.iterdir():\n",
    "                if species_dir.is_dir():\n",
    "                    species = species_dir.name\n",
    "                    for image_file in species_dir.glob('*'):\n",
    "                        if image_file.is_file():\n",
    "                            records.append({\n",
    "                                'modality': modality,\n",
    "                                'species': species,\n",
    "                                'filepath': str(image_file.resolve())\n",
    "                            })\n",
    "\n",
    "    return pd.DataFrame(records)\n",
    "\n",
    "\n",
    "def resize_images_from_df(df, output_base_dir, size=(256,256)):\n",
    "    output_base = Path(output_base_dir)\n",
    "    for _, row in df.iterrows():\n",
    "        img_path = Path(row['filepath'])\n",
    "        modality = row['modality']\n",
    "        species = row['species']\n",
    "\n",
    "        dest_dir = output_base / modality / species\n",
    "        dest_dir.mkdir(parents=True, exist_ok=True)\n",
    "\n",
    "        try:\n",
    "            with Image.open(img_path) as img:\n",
    "                img = img.convert('RGB')\n",
    "                img = img.resize(size)\n",
    "                img.save(dest_dir / img_path.name)\n",
    "        except Exception as e:\n",
    "            print(f\"Erreur avec {img_path}: {e}\")\n",
    "\n",
    "\n",
    "# Chemin dataset original\n",
    "dataset_root = '/workspaces/datasciencetest_reco_plante/dataset/plantvillage/data/plantvillage dataset'\n",
    "\n",
    "# Extraction des chemins\n",
    "df_paths = list_image_paths(dataset_root)\n",
    "\n",
    "# Chemin où tu veux sauvegarder les images redimensionnées\n",
    "output_dir = '/workspaces/datasciencetest_reco_plante/dataset/plantvillage/data/plantvillage_resized'\n",
    "\n",
    "# Resize et sauvegarde\n",
    "resize_images_from_df(df_paths, output_dir)\n",
    "\n"
   ]
  },
  {
   "cell_type": "code",
   "execution_count": 6,
   "id": "2f986294",
   "metadata": {},
   "outputs": [
    {
     "name": "stdout",
     "output_type": "stream",
     "text": [
      "Toutes les images ont bien la taille (256, 256).\n"
     ]
    }
   ],
   "source": [
    "from pathlib import Path\n",
    "from PIL import Image\n",
    "\n",
    "def verify_image_sizes(root_dir, expected_size):\n",
    "    \"\"\"\n",
    "    Parcourt toutes les images dans root_dir et ses sous-dossiers,\n",
    "    et affiche les images qui n'ont pas la taille expected_size.\n",
    "    \n",
    "    Parameters:\n",
    "        root_dir (str or Path): dossier racine à vérifier\n",
    "        expected_size (tuple): taille attendue (width, height)\n",
    "    \"\"\"\n",
    "    root_path = Path(root_dir)\n",
    "    mismatch_files = []\n",
    "\n",
    "    for img_path in root_path.rglob('*'):\n",
    "        if img_path.is_file() and img_path.suffix.lower() in ['.jpg', '.jpeg', '.png', '.bmp', '.gif']:\n",
    "            try:\n",
    "                with Image.open(img_path) as img:\n",
    "                    if img.size != expected_size:\n",
    "                        mismatch_files.append((img_path, img.size))\n",
    "            except Exception as e:\n",
    "                print(f\"Erreur en ouvrant {img_path}: {e}\")\n",
    "\n",
    "    if mismatch_files:\n",
    "        print(f\"Images ne correspondant pas à la taille {expected_size}:\")\n",
    "        for path, size in mismatch_files:\n",
    "            print(f\" - {path} : taille {size}\")\n",
    "    else:\n",
    "        print(f\"Toutes les images ont bien la taille {expected_size}.\")\n",
    "\n",
    "# Exemple d'utilisation\n",
    "root_dir = '/workspaces/datasciencetest_reco_plante/dataset/plantvillage/data/plantvillage_resized'\n",
    "expected_size = (256, 256)\n",
    "verify_image_sizes(root_dir, expected_size)\n"
   ]
  },
  {
   "cell_type": "code",
   "execution_count": 1,
   "id": "8dcb99a5",
   "metadata": {},
   "outputs": [
    {
     "name": "stdout",
     "output_type": "stream",
     "text": [
      "\n",
      "📦 Nombre total d'images (sans vérification) : 192718\n",
      "📊 Répartition par extension :\n",
      "  .jpg : 192716\n",
      "  .jpeg : 1\n",
      "  .png : 1\n"
     ]
    }
   ],
   "source": [
    "from pathlib import Path\n",
    "from collections import Counter\n",
    "\n",
    "def count_images_fast(folder_path):\n",
    "    folder = Path(folder_path)\n",
    "    counter = Counter()\n",
    "\n",
    "    for img_path in folder.rglob('*'):\n",
    "        if img_path.is_file():\n",
    "            ext = img_path.suffix.lower()\n",
    "            if ext in ['.png', '.bmp', '.gif', '.jpeg', '.jpg']:\n",
    "                counter[ext] += 1\n",
    "\n",
    "    total = sum(counter.values())\n",
    "    print(f\"\\n📦 Nombre total d'images (sans vérification) : {total}\")\n",
    "    print(\"📊 Répartition par extension :\")\n",
    "    for ext, count in counter.items():\n",
    "        print(f\"  {ext} : {count}\")\n",
    "\n",
    "# Exemple d'utilisation\n",
    "folder = '/workspaces/datasciencetest_reco_plante/dataset/plantvillage/data/plantvillage_resized'\n",
    "count_images_fast(folder)\n"
   ]
  },
  {
   "cell_type": "code",
   "execution_count": 2,
   "id": "2d55d9fe",
   "metadata": {},
   "outputs": [
    {
     "name": "stdout",
     "output_type": "stream",
     "text": [
      "❌ Supprimé : /workspaces/datasciencetest_reco_plante/dataset/plantvillage/data/plantvillage_resized/grayscale/Tomato___Late_blight/d0badc95-d04c-457b-8db8-aa6e198f4bd6___GHLB Leaf 10 Day 6.jpeg\n",
      "❌ Supprimé : /workspaces/datasciencetest_reco_plante/dataset/plantvillage/data/plantvillage_resized/grayscale/Pepper,_bell___healthy/42f083e2-272d-4f83-ad9a-573ee90e50ec___Screen Shot 2015-05-06 at 4.01.13 PM.png\n",
      "\n",
      "✅ Nettoyage terminé. 2 fichiers supprimés.\n"
     ]
    }
   ],
   "source": [
    "from pathlib import Path\n",
    "\n",
    "def supprimer_images_non_jpg(folder_path):\n",
    "    folder = Path(folder_path)\n",
    "    extensions_a_supprimer = ['.jpeg', '.png', '.gif', '.bmp']\n",
    "\n",
    "    fichiers_supprimes = 0\n",
    "\n",
    "    for img_path in folder.rglob('*'):\n",
    "        if img_path.is_file() and img_path.suffix.lower() in extensions_a_supprimer:\n",
    "            try:\n",
    "                img_path.unlink()\n",
    "                print(f\"❌ Supprimé : {img_path}\")\n",
    "                fichiers_supprimes += 1\n",
    "            except Exception as e:\n",
    "                print(f\"Erreur lors de la suppression de {img_path} : {e}\")\n",
    "\n",
    "    print(f\"\\n✅ Nettoyage terminé. {fichiers_supprimes} fichiers supprimés.\")\n",
    "\n",
    "# Exemple d'utilisation\n",
    "folder = '/workspaces/datasciencetest_reco_plante/dataset/plantvillage/data/plantvillage_resized'\n",
    "supprimer_images_non_jpg(folder)\n",
    "\n"
   ]
  },
  {
   "cell_type": "code",
   "execution_count": 3,
   "id": "971fd3eb",
   "metadata": {},
   "outputs": [
    {
     "name": "stdout",
     "output_type": "stream",
     "text": [
      "\n",
      "🔍 Fichiers image non .jpg trouvés : 0\n",
      "✅ Aucun fichier image autre que .jpg trouvé.\n"
     ]
    }
   ],
   "source": [
    "from pathlib import Path\n",
    "\n",
    "def verifier_images_non_jpg(folder_path):\n",
    "    folder = Path(folder_path)\n",
    "    extensions_autorisees = ['.jpg']\n",
    "    extensions_image_connues = ['.jpg', '.jpeg', '.png', '.gif', '.bmp']\n",
    "    fichiers_non_jpg = []\n",
    "\n",
    "    for img_path in folder.rglob('*'):\n",
    "        if img_path.is_file() and img_path.suffix.lower() in extensions_image_connues:\n",
    "            if img_path.suffix.lower() not in extensions_autorisees:\n",
    "                fichiers_non_jpg.append(img_path)\n",
    "\n",
    "    total = len(fichiers_non_jpg)\n",
    "    print(f\"\\n🔍 Fichiers image non .jpg trouvés : {total}\")\n",
    "    if total > 0:\n",
    "        print(\"Liste des fichiers :\")\n",
    "        for f in fichiers_non_jpg:\n",
    "            print(f\" - {f}\")\n",
    "    else:\n",
    "        print(\"✅ Aucun fichier image autre que .jpg trouvé.\")\n",
    "\n",
    "# Exemple d'utilisation\n",
    "folder = '/workspaces/datasciencetest_reco_plante/dataset/plantvillage/data/plantvillage_resized'\n",
    "verifier_images_non_jpg(folder)\n"
   ]
  },
  {
   "cell_type": "code",
   "execution_count": 4,
   "id": "7b9f1524",
   "metadata": {},
   "outputs": [
    {
     "name": "stdout",
     "output_type": "stream",
     "text": [
      "📂 Classes détectées : ['segmented', 'color', 'grayscale']\n",
      "✅ segmented : 0 images → 0 train, 0 val, 0 test\n",
      "✅ color : 0 images → 0 train, 0 val, 0 test\n",
      "✅ grayscale : 0 images → 0 train, 0 val, 0 test\n",
      "\n",
      "🎉 Séparation terminée.\n"
     ]
    }
   ],
   "source": [
    "import os\n",
    "import random\n",
    "import shutil\n",
    "from pathlib import Path\n",
    "\n",
    "def split_dataset(source_dir, output_dir, train_ratio=0.7, val_ratio=0.15, test_ratio=0.15, seed=42):\n",
    "    random.seed(seed)\n",
    "    source_dir = Path(source_dir)\n",
    "    output_dir = Path(output_dir)\n",
    "\n",
    "    # Vérifie que la somme des ratios est 1\n",
    "    assert abs((train_ratio + val_ratio + test_ratio) - 1.0) < 1e-6, \"Les ratios doivent totaliser 1.0\"\n",
    "\n",
    "    # Liste les classes (chaque sous-dossier)\n",
    "    classes = [d for d in source_dir.iterdir() if d.is_dir()]\n",
    "    print(f\"📂 Classes détectées : {[c.name for c in classes]}\")\n",
    "\n",
    "    for class_dir in classes:\n",
    "        images = list(class_dir.glob('*.jpg'))\n",
    "        random.shuffle(images)\n",
    "\n",
    "        n = len(images)\n",
    "        n_train = int(n * train_ratio)\n",
    "        n_val = int(n * val_ratio)\n",
    "\n",
    "        splits = {\n",
    "            'train': images[:n_train],\n",
    "            'val': images[n_train:n_train + n_val],\n",
    "            'test': images[n_train + n_val:]\n",
    "        }\n",
    "\n",
    "        for split_name, split_images in splits.items():\n",
    "            target_dir = output_dir / split_name / class_dir.name\n",
    "            target_dir.mkdir(parents=True, exist_ok=True)\n",
    "\n",
    "            for img_path in split_images:\n",
    "                shutil.copy2(img_path, target_dir)\n",
    "\n",
    "        print(f\"✅ {class_dir.name} : {n} images → {len(splits['train'])} train, {len(splits['val'])} val, {len(splits['test'])} test\")\n",
    "\n",
    "    print(\"\\n🎉 Séparation terminée.\")\n",
    "\n",
    "# Exemple d'utilisation\n",
    "source = '/workspaces/datasciencetest_reco_plante/dataset/plantvillage/data/plantvillage_resized'\n",
    "output = '/workspaces/datasciencetest_reco_plante/dataset/plantvillage/data/plantvillage_split'\n",
    "split_dataset(source, output)\n"
   ]
  },
  {
   "cell_type": "code",
   "execution_count": 5,
   "id": "2eb1e32a",
   "metadata": {},
   "outputs": [],
   "source": [
    "from pathlib import Path\n",
    "\n",
    "# Dossier contenant les images originales\n",
    "DATA_RAW_DIR = Path(\"/workspaces/datasciencetest_reco_plante/dataset/plantvillage/data/plantvillage_resized\")\n",
    "\n",
    "# Dossier de sortie pour le dataset splitté (train/val/test)\n",
    "DATA_SPLIT_DIR = Path(\"/workspaces/datasciencetest_reco_plante/dataset/plantvillage/data/plantvillage_split\")\n",
    "\n",
    "# Dossier pour éventuellement déplacer les images invalides ou supprimées\n",
    "TRASH_DIR = Path(\"/workspaces/datasciencetest_reco_plante/dataset/plantvillage/data/trash\")\n",
    "\n",
    "# Extensions valides (standardisation)\n",
    "IMAGE_EXTENSIONS = ['.jpg']  # On garde uniquement .jpg\n"
   ]
  },
  {
   "cell_type": "code",
   "execution_count": 13,
   "id": "12a13d9c",
   "metadata": {},
   "outputs": [
    {
     "name": "stdout",
     "output_type": "stream",
     "text": [
      "Extraction des features en cours...\n",
      "Classe 'Tomato___Tomato_mosaic_virus': 373 images\n"
     ]
    },
    {
     "name": "stdout",
     "output_type": "stream",
     "text": [
      "Classe 'Grape___healthy': 423 images\n",
      "Classe 'Orange___Haunglongbing_(Citrus_greening)': 5507 images\n",
      "Classe 'Cherry_(including_sour)___Powdery_mildew': 1052 images\n",
      "Classe 'Grape___Leaf_blight_(Isariopsis_Leaf_Spot)': 1076 images\n",
      "Classe 'Squash___Powdery_mildew': 1835 images\n",
      "Classe 'Pepper,_bell___Bacterial_spot': 997 images\n",
      "Classe 'Tomato___Target_Spot': 1404 images\n",
      "Classe 'Apple___Apple_scab': 630 images\n",
      "Classe 'Tomato___Late_blight': 1909 images\n",
      "Classe 'Peach___Bacterial_spot': 2297 images\n",
      "Classe 'Pepper,_bell___healthy': 1478 images\n",
      "Classe 'Tomato___Septoria_leaf_spot': 1771 images\n",
      "Classe 'Tomato___Leaf_Mold': 952 images\n",
      "Classe 'Potato___Late_blight': 1000 images\n",
      "Classe 'Soybean___healthy': 5090 images\n",
      "Classe 'Tomato___Tomato_Yellow_Leaf_Curl_Virus': 5357 images\n",
      "Classe 'Corn_(maize)___healthy': 1162 images\n",
      "Classe 'Corn_(maize)___Cercospora_leaf_spot Gray_leaf_spot': 513 images\n",
      "Classe 'Tomato___healthy': 1591 images\n",
      "Classe 'Potato___healthy': 152 images\n",
      "Classe 'Potato___Early_blight': 1000 images\n",
      "Classe 'Corn_(maize)___Northern_Leaf_Blight': 985 images\n",
      "Classe 'Corn_(maize)___Common_rust_': 1192 images\n",
      "Classe 'Tomato___Spider_mites Two-spotted_spider_mite': 1676 images\n",
      "Classe 'Raspberry___healthy': 371 images\n",
      "Classe 'Cherry_(including_sour)___healthy': 854 images\n",
      "Classe 'Blueberry___healthy': 1502 images\n",
      "Classe 'Tomato___Early_blight': 1000 images\n",
      "Classe 'Strawberry___Leaf_scorch': 1109 images\n",
      "Classe 'Grape___Esca_(Black_Measles)': 1384 images\n",
      "Classe 'Apple___healthy': 1645 images\n",
      "Classe 'Strawberry___healthy': 456 images\n",
      "Classe 'Grape___Black_rot': 1180 images\n",
      "Classe 'Apple___Cedar_apple_rust': 275 images\n",
      "Classe 'Tomato___Bacterial_spot': 2127 images\n",
      "Classe 'Apple___Black_rot': 621 images\n",
      "Classe 'Peach___healthy': 360 images\n",
      "\n",
      "DataFrame généré avec 54306 lignes\n",
      "Features sauvegardées dans : /workspaces/datasciencetest_reco_plante/dataset/plantvillage/data/plantvillage_resized/features_dataset_segmented.csv\n"
     ]
    }
   ],
   "source": [
    "import cv2\n",
    "import numpy as np\n",
    "import pandas as pd\n",
    "from pathlib import Path\n",
    "from skimage.feature import hog\n",
    "\n",
    "def extract_features(image_path):\n",
    "    img = cv2.imread(str(image_path), cv2.IMREAD_GRAYSCALE)\n",
    "    if img is None:\n",
    "        raise ValueError(f\"Image non chargée: {image_path}\")\n",
    "    img = cv2.resize(img, (128, 128))\n",
    "\n",
    "    # Moments de Hu\n",
    "    moments = cv2.moments(img)\n",
    "    hu_moments = cv2.HuMoments(moments).flatten()\n",
    "    hu_moments = -np.sign(hu_moments) * np.log10(np.abs(hu_moments) + 1e-10)\n",
    "\n",
    "    # Transformée de Fourier (magnitude moyenne)\n",
    "    f = np.fft.fft2(img)\n",
    "    fshift = np.fft.fftshift(f)\n",
    "    magnitude_spectrum = 20 * np.log(np.abs(fshift) + 1e-10)\n",
    "    fourier_mean = magnitude_spectrum.mean()\n",
    "\n",
    "    # HOG\n",
    "    hog_features = hog(img, pixels_per_cell=(16, 16), cells_per_block=(2, 2), feature_vector=True)\n",
    "    hog_reduced = hog_features[:20]\n",
    "\n",
    "    return np.concatenate([hu_moments, [fourier_mean], hog_reduced])\n",
    "\n",
    "def build_feature_dataset(dataset_root):\n",
    "    root = Path(dataset_root)\n",
    "    segmented_path = root / 'segmented'\n",
    "    records = []\n",
    "\n",
    "    if not segmented_path.exists():\n",
    "        print(f\"⚠️ Le dossier {segmented_path} n'existe pas.\")\n",
    "        return pd.DataFrame()  # Vide\n",
    "\n",
    "    print(\"Extraction des features en cours...\")\n",
    "\n",
    "    for class_dir in segmented_path.iterdir():\n",
    "        if class_dir.is_dir():\n",
    "            species = class_dir.name.split('___')[0]\n",
    "            image_files = list(class_dir.glob(\"*.jp*g\"))\n",
    "            print(f\"Classe '{class_dir.name}': {len(image_files)} images\")\n",
    "\n",
    "            for image_path in image_files:\n",
    "                try:\n",
    "                    features = extract_features(image_path)\n",
    "                    record = {\n",
    "                        'species': species,\n",
    "                        'image_path': str(image_path)\n",
    "                    }\n",
    "                    for i, val in enumerate(features):\n",
    "                        record[f'feat_{i}'] = val\n",
    "                    records.append(record)\n",
    "                except Exception as e:\n",
    "                    print(f\"Erreur avec {image_path}: {e}\")\n",
    "\n",
    "    df = pd.DataFrame(records)\n",
    "    return df\n",
    "\n",
    "if __name__ == \"__main__\":\n",
    "    dataset_path = \"/workspaces/datasciencetest_reco_plante/dataset/plantvillage/data/plantvillage_resized\"\n",
    "\n",
    "    df = build_feature_dataset(dataset_path)\n",
    "    print(f\"\\nDataFrame généré avec {len(df)} lignes\")\n",
    "\n",
    "    # Sauvegarde CSV\n",
    "    output_csv = Path(dataset_path) / \"features_dataset_segmented.csv\"\n",
    "    df.to_csv(output_csv, index=False)\n",
    "    print(f\"Features sauvegardées dans : {output_csv}\")\n"
   ]
  },
  {
   "cell_type": "code",
   "execution_count": 14,
   "id": "0b121112",
   "metadata": {},
   "outputs": [
    {
     "name": "stdout",
     "output_type": "stream",
     "text": [
      "  species                                         image_path    feat_0  \\\n",
      "0  Tomato  /workspaces/datasciencetest_reco_plante/datase...  2.674282   \n",
      "1  Tomato  /workspaces/datasciencetest_reco_plante/datase...  2.752815   \n",
      "2  Tomato  /workspaces/datasciencetest_reco_plante/datase...  2.570274   \n",
      "3  Tomato  /workspaces/datasciencetest_reco_plante/datase...  2.854277   \n",
      "4  Tomato  /workspaces/datasciencetest_reco_plante/datase...  2.756342   \n",
      "\n",
      "     feat_1    feat_2    feat_3  feat_4    feat_5  feat_6      feat_7  ...  \\\n",
      "0  6.152982  9.513265  9.426511   -10.0  9.999011   -10.0  133.005363  ...   \n",
      "1  5.971158  9.434369  9.809536    10.0  9.999965    10.0  134.760998  ...   \n",
      "2  5.283350  9.064645  9.234546    10.0  9.995300    10.0  134.306466  ...   \n",
      "3  6.612926  9.405340  9.949012   -10.0 -9.999976   -10.0  138.707162  ...   \n",
      "4  6.216011  9.268629  9.841810    10.0  9.999857    10.0  132.739661  ...   \n",
      "\n",
      "   feat_18  feat_19  feat_20  feat_21  feat_22  feat_23  feat_24  feat_25  \\\n",
      "0      0.0      0.0      0.0      0.0      0.0      0.0      0.0      0.0   \n",
      "1      0.0      0.0      0.0      0.0      0.0      0.0      0.0      0.0   \n",
      "2      0.0      0.0      0.0      0.0      0.0      0.0      0.0      0.0   \n",
      "3      0.0      0.0      0.0      0.0      0.0      0.0      0.0      0.0   \n",
      "4      0.0      0.0      0.0      0.0      0.0      0.0      0.0      0.0   \n",
      "\n",
      "   feat_26  feat_27  \n",
      "0      0.0      0.0  \n",
      "1      0.0      0.0  \n",
      "2      0.0      0.0  \n",
      "3      0.0      0.0  \n",
      "4      0.0      0.0  \n",
      "\n",
      "[5 rows x 30 columns]\n",
      "<class 'pandas.core.frame.DataFrame'>\n",
      "RangeIndex: 54306 entries, 0 to 54305\n",
      "Data columns (total 30 columns):\n",
      " #   Column      Non-Null Count  Dtype  \n",
      "---  ------      --------------  -----  \n",
      " 0   species     54306 non-null  object \n",
      " 1   image_path  54306 non-null  object \n",
      " 2   feat_0      54306 non-null  float64\n",
      " 3   feat_1      54306 non-null  float64\n",
      " 4   feat_2      54306 non-null  float64\n",
      " 5   feat_3      54306 non-null  float64\n",
      " 6   feat_4      54306 non-null  float64\n",
      " 7   feat_5      54306 non-null  float64\n",
      " 8   feat_6      54306 non-null  float64\n",
      " 9   feat_7      54306 non-null  float64\n",
      " 10  feat_8      54306 non-null  float64\n",
      " 11  feat_9      54306 non-null  float64\n",
      " 12  feat_10     54306 non-null  float64\n",
      " 13  feat_11     54306 non-null  float64\n",
      " 14  feat_12     54306 non-null  float64\n",
      " 15  feat_13     54306 non-null  float64\n",
      " 16  feat_14     54306 non-null  float64\n",
      " 17  feat_15     54306 non-null  float64\n",
      " 18  feat_16     54306 non-null  float64\n",
      " 19  feat_17     54306 non-null  float64\n",
      " 20  feat_18     54306 non-null  float64\n",
      " 21  feat_19     54306 non-null  float64\n",
      " 22  feat_20     54306 non-null  float64\n",
      " 23  feat_21     54306 non-null  float64\n",
      " 24  feat_22     54306 non-null  float64\n",
      " 25  feat_23     54306 non-null  float64\n",
      " 26  feat_24     54306 non-null  float64\n",
      " 27  feat_25     54306 non-null  float64\n",
      " 28  feat_26     54306 non-null  float64\n",
      " 29  feat_27     54306 non-null  float64\n",
      "dtypes: float64(28), object(2)\n",
      "memory usage: 12.4+ MB\n",
      "None\n"
     ]
    }
   ],
   "source": [
    "import pandas as pd\n",
    "\n",
    "# Remplace par le chemin exact de ton fichier CSV\n",
    "csv_path = \"/workspaces/datasciencetest_reco_plante/dataset/plantvillage/data/plantvillage_resized/features_dataset_segmented.csv\"\n",
    "\n",
    "# Chargement du fichier CSV dans un DataFrame\n",
    "df = pd.read_csv(csv_path)\n",
    "\n",
    "# Afficher les 5 premières lignes pour un aperçu rapide\n",
    "print(df.head())\n",
    "\n",
    "# Afficher des infos sur les colonnes et types\n",
    "print(df.info())\n"
   ]
  }
 ],
 "metadata": {
  "kernelspec": {
   "display_name": "conda_env",
   "language": "python",
   "name": "python3"
  },
  "language_info": {
   "codemirror_mode": {
    "name": "ipython",
    "version": 3
   },
   "file_extension": ".py",
   "mimetype": "text/x-python",
   "name": "python",
   "nbconvert_exporter": "python",
   "pygments_lexer": "ipython3",
   "version": "3.11.13"
  }
 },
 "nbformat": 4,
 "nbformat_minor": 5
}
