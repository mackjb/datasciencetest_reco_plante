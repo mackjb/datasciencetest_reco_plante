{
 "cells": [
  {
   "cell_type": "markdown",
   "id": "8235da1f",
   "metadata": {},
   "source": [
    "# Exemple de chargement du dataset PlantVillage\n",
    "Ce notebook montre comment importer et utiliser les fonctions de data_loader.py pour charger le dataset."
   ]
  },
  {
   "cell_type": "code",
   "execution_count": 1,
   "id": "1883538a",
   "metadata": {},
   "outputs": [
    {
     "name": "stdout",
     "output_type": "stream",
     "text": [
      "Racine du projet : /Users/mackjb/repository/datasciencetest_reco_plante-1\n"
     ]
    }
   ],
   "source": [
    "from IPython.display import display\n",
    "from src.helpers.helpers import PROJECT_ROOT\n",
    "from src.data_loader.data_loader import load_plantvillage_all, load_plantvillage_five_images\n",
    "\n",
    "print(f\"Racine du projet : {PROJECT_ROOT}\")"
   ]
  },
  {
   "cell_type": "code",
   "execution_count": 2,
   "id": "4baee9cf",
   "metadata": {},
   "outputs": [],
   "source": [
    "from IPython.display import display\n",
    "from src.helpers.helpers import PROJECT_ROOT\n",
    "from src.data_loader.data_loader import generate_raw_data_plantvillage_segmented_all, generate_clean_and_resized, augment_minority_classes_cv2\n",
    "import time\n",
    "import hashlib\n",
    "import pandas as pd\n",
    "from pathlib import Path\n",
    "from PIL import Image"
   ]
  },
  {
   "cell_type": "code",
   "execution_count": null,
   "id": "c032d206",
   "metadata": {},
   "outputs": [
    {
     "name": "stdout",
     "output_type": "stream",
     "text": [
      "\n",
      "Génération du CSV complet raw_data_plantvillage_segmented_all.csv...\n",
      "Raw data CSV enregistré: /Users/mackjb/repository/datasciencetest_reco_plante-1/dataset/plantvillage/csv/raw_data_plantvillage_segmented_all.csv\n",
      "                                            filepath  \\\n",
      "0  /Users/mackjb/repository/datasciencetest_reco_...   \n",
      "1  /Users/mackjb/repository/datasciencetest_reco_...   \n",
      "2  /Users/mackjb/repository/datasciencetest_reco_...   \n",
      "3  /Users/mackjb/repository/datasciencetest_reco_...   \n",
      "4  /Users/mackjb/repository/datasciencetest_reco_...   \n",
      "\n",
      "                                            filename extension  file_size  \\\n",
      "0  091b0459-1a9a-4a60-b59f-3de2faedb6f8___RS_HL 2...       jpg      12253   \n",
      "1  aba13626-8beb-474e-b609-300e7eb4e896___RS_HL 1...       jpg      11555   \n",
      "2  ec906a90-7da2-420f-a3ab-5a67979868ee___RS_HL 2...       jpg      10976   \n",
      "3  04cb725a-632d-44e0-9886-c84e2bbdd3da___RS_HL 2...       jpg      13027   \n",
      "4  7e02bc12-a026-4aff-88b1-78dcd0a97fa1___RS_HL 1...       jpg      11704   \n",
      "\n",
      "                  label  width  height mode  num_channels  aspect_ratio  \\\n",
      "0  Strawberry___healthy    256     256  RGB             3           1.0   \n",
      "1  Strawberry___healthy    256     256  RGB             3           1.0   \n",
      "2  Strawberry___healthy    256     256  RGB             3           1.0   \n",
      "3  Strawberry___healthy    256     256  RGB             3           1.0   \n",
      "4  Strawberry___healthy    256     256  RGB             3           1.0   \n",
      "\n",
      "   is_image_valid  is_black  is_na  is_duplicate_after_first  \n",
      "0            True     False  False                     False  \n",
      "1            True     False  False                     False  \n",
      "2            True     False  False                     False  \n",
      "3            True     False  False                     False  \n",
      "4            True     False  False                     False  \n"
     ]
    }
   ],
   "source": [
    "# # Génération du CSV complet raw_data_plantvillage_segmented_all.csv\n",
    "# print(\"\\nGénération du CSV complet raw_data_plantvillage_segmented_all.csv...\")\n",
    "# df_raw = generate_raw_data_plantvillage_segmented_all()\n",
    "# print(df_raw.head())"
   ]
  },
  {
   "cell_type": "code",
   "execution_count": 3,
   "id": "7799bb8c",
   "metadata": {},
   "outputs": [
    {
     "name": "stdout",
     "output_type": "stream",
     "text": [
      "Recalcul des données et des features (rafraîchissement forcé ou colonnes manquantes)...\n",
      "\n",
      "Génération du CSV clean et des images 256x256 PNG en une seule passe...\n",
      "                                            filepath  \\\n",
      "0  /Users/mackjb/repository/datasciencetest_reco_...   \n",
      "1  /Users/mackjb/repository/datasciencetest_reco_...   \n",
      "2  /Users/mackjb/repository/datasciencetest_reco_...   \n",
      "3  /Users/mackjb/repository/datasciencetest_reco_...   \n",
      "4  /Users/mackjb/repository/datasciencetest_reco_...   \n",
      "\n",
      "                                            filename extension  file_size  \\\n",
      "0  091b0459-1a9a-4a60-b59f-3de2faedb6f8___RS_HL 2...       png      12253   \n",
      "1  aba13626-8beb-474e-b609-300e7eb4e896___RS_HL 1...       png      11555   \n",
      "2  ec906a90-7da2-420f-a3ab-5a67979868ee___RS_HL 2...       png      10976   \n",
      "3  04cb725a-632d-44e0-9886-c84e2bbdd3da___RS_HL 2...       png      13027   \n",
      "4  7e02bc12-a026-4aff-88b1-78dcd0a97fa1___RS_HL 1...       png      11704   \n",
      "\n",
      "   width  height mode  num_channels  aspect_ratio  is_image_valid  ...  \\\n",
      "0    256     256  RGB             3           1.0            True  ...   \n",
      "1    256     256  RGB             3           1.0            True  ...   \n",
      "2    256     256  RGB             3           1.0            True  ...   \n",
      "3    256     256  RGB             3           1.0            True  ...   \n",
      "4    256     256  RGB             3           1.0            True  ...   \n",
      "\n",
      "   circularity  solidity    extent  eccentricity  major_axis_length  \\\n",
      "0     0.263474  0.930529  0.700603      1.214077         246.484940   \n",
      "1     0.218432  0.902210  0.642544      1.088847         226.533371   \n",
      "2     0.200327  0.916496  0.701593      1.074939         222.591858   \n",
      "3     0.249603  0.940098  0.773451      1.171983         252.501328   \n",
      "4     0.224075  0.931323  0.764259      1.126536         246.691788   \n",
      "\n",
      "   minor_axis_length  compactness  fractal_dimension     species  disease  \n",
      "0         203.022568    47.694953           1.353065  Strawberry  healthy  \n",
      "1         208.048798    57.529792           1.350030  Strawberry  healthy  \n",
      "2         207.073959    62.729154           1.344851  Strawberry  healthy  \n",
      "3         215.447906    50.345371           1.358763  Strawberry  healthy  \n",
      "4         218.982605    56.081076           1.377697  Strawberry  healthy  \n",
      "\n",
      "[5 rows x 39 columns]\n",
      "Clean CSV mis à jour et images PNG générées dans : /Users/mackjb/repository/datasciencetest_reco_plante-1/dataset/plantvillage/segmented_clean_augmented_images\n"
     ]
    }
   ],
   "source": [
    "# Génération du CSV clean et des images 256x256 PNG en une seule méthode\n",
    "df_clean, output_dir = generate_clean_and_resized(force_refresh=True)\n",
    "print(df_clean.head())\n",
    "print(f\"Clean CSV mis à jour et images PNG générées dans : {output_dir}\")\n",
    "\n",
    "\n"
   ]
  },
  {
   "cell_type": "code",
   "execution_count": 4,
   "id": "e8c4112b",
   "metadata": {},
   "outputs": [],
   "source": [
    "\n",
    "# Utilisation :\n",
    "df_aug = augment_minority_classes_cv2(df_clean, image_col='filepath', label_col='species')"
   ]
  },
  {
   "cell_type": "code",
   "execution_count": 5,
   "id": "d83023d4",
   "metadata": {},
   "outputs": [
    {
     "data": {
      "text/plain": [
       "Index(['filepath', 'filename', 'extension', 'file_size', 'width', 'height',\n",
       "       'mode', 'num_channels', 'aspect_ratio', 'is_image_valid', 'is_black',\n",
       "       'is_na', 'is_duplicate_after_first', 'phi1_distingue_large_vs_etroit',\n",
       "       'phi2_distinction_elongation_forme', 'phi3_asymetrie_maladie',\n",
       "       'phi4_symetrie_diagonale_forme', 'phi5_concavite_extremites',\n",
       "       'phi6_decalage_torsion_maladie', 'phi7_asymetrie_complexe',\n",
       "       'energie_basse_forme_feuille', 'energie_moyenne_texture_veines',\n",
       "       'energie_haute_details_maladie', 'hog_moyenne_contours_forme',\n",
       "       'hog_ecarttype_texture', 'pixel_ratio', 'leaf_segments', 'area',\n",
       "       'perimeter', 'circularity', 'solidity', 'extent', 'eccentricity',\n",
       "       'major_axis_length', 'minor_axis_length', 'compactness',\n",
       "       'fractal_dimension', 'species', 'disease', 'is_augmented'],\n",
       "      dtype='object')"
      ]
     },
     "execution_count": 5,
     "metadata": {},
     "output_type": "execute_result"
    }
   ],
   "source": [
    "pd.set_option('display.max_colwidth', None)\n",
    "\n",
    "\n",
    "# Marquer l’origine\n",
    "df_clean['is_augmented'] = False\n",
    "df_aug  ['is_augmented'] = True\n",
    "\n",
    "# Concaténer tout pour garder la structure uniforme\n",
    "df_full = pd.concat([df_clean, df_aug], ignore_index=True)\n",
    "\n",
    "df_full.describe()\n",
    "\n",
    "df_full.columns\n"
   ]
  },
  {
   "cell_type": "code",
   "execution_count": 7,
   "id": "916fb17b",
   "metadata": {},
   "outputs": [],
   "source": [
    "from sklearn.model_selection import train_test_split\n",
    "\n",
    "\n",
    "\n",
    "# 2. On split SÉRIEUSEMENT sur les seules lignes originales\n",
    "orig = df_full[df_full['is_augmented']==False]\n",
    "train_orig, test_orig = train_test_split(\n",
    "    orig,\n",
    "    test_size=0.2,\n",
    "    stratify=orig['species'],\n",
    "    random_state=42\n",
    ")\n",
    "\n",
    "# # 3. Construire le train final : \n",
    "# #    on ajoute **toutes** les augmentations au train, \n",
    "# #    et on garde le test uniquement sur les originaux\n",
    "# train_final = pd.concat([train_orig, df_full[df_full['is_augmented']==True]], \n",
    "#                         ignore_index=True)\n",
    "# test_final  = test_orig.copy()\n",
    "\n",
    "# # 4. Séparer X/y\n",
    "# drop_cols = [\n",
    "#     'filepath','filename','extension','file_size',\n",
    "#     'is_image_valid','is_black','is_na',\n",
    "#     'is_duplicate_after_first','disease','is_augmented'\n",
    "# ]\n",
    "# X_train = train_final.drop(columns=drop_cols + ['species'])\n",
    "# y_train = train_final['species']\n",
    "\n",
    "# X_test  = test_final.drop(columns=drop_cols + ['species'])\n",
    "# y_test  = test_final['species']\n",
    "\n",
    "# # 5. Poursuivre avec scaling, entraînement, SHAP, etc.\n",
    "# from sklearn.preprocessing import RobustScaler\n",
    "# scaler = RobustScaler().fit(X_train)\n",
    "# X_train_s = scaler.transform(X_train)\n",
    "# X_test_s  = scaler.transform(X_test)\n",
    "\n",
    "# from sklearn.ensemble import RandomForestClassifier\n",
    "# clf = RandomForestClassifier(\n",
    "#     n_estimators=200,\n",
    "#     class_weight='balanced',\n",
    "#     random_state=42\n",
    "# )\n",
    "# clf.fit(X_train_s, y_train)\n",
    "\n",
    "# # Vérification\n",
    "# from sklearn.metrics import classification_report\n",
    "# print(classification_report(y_test, clf.predict(X_test_s)))\n"
   ]
  },
  {
   "cell_type": "code",
   "execution_count": 10,
   "id": "08bf45d4",
   "metadata": {},
   "outputs": [
    {
     "name": "stdout",
     "output_type": "stream",
     "text": [
      "[12 12 12 ... 10 10 10]\n"
     ]
    }
   ],
   "source": [
    "from sklearn.preprocessing import LabelEncoder\n",
    "le = LabelEncoder().fit(y)\n",
    "y_enc = le.transform(y)\n",
    "\n",
    "print(y_enc)"
   ]
  },
  {
   "cell_type": "code",
   "execution_count": 11,
   "id": "14d8b388",
   "metadata": {},
   "outputs": [],
   "source": [
    "from sklearn.model_selection import train_test_split\n",
    "X_train, X_test, y_train, y_test = train_test_split(\n",
    "    X, y_enc,\n",
    "    test_size=0.2,\n",
    "    stratify=y_enc,\n",
    "    random_state=42\n",
    ")"
   ]
  }
 ],
 "metadata": {
  "kernelspec": {
   "display_name": "conda_env",
   "language": "python",
   "name": "python3"
  },
  "language_info": {
   "codemirror_mode": {
    "name": "ipython",
    "version": 3
   },
   "file_extension": ".py",
   "mimetype": "text/x-python",
   "name": "python",
   "nbconvert_exporter": "python",
   "pygments_lexer": "ipython3",
   "version": "3.11.13"
  }
 },
 "nbformat": 4,
 "nbformat_minor": 5
}
