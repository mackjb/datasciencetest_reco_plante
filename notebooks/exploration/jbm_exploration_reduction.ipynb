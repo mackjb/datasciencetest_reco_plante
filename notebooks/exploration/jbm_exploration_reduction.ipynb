{
 "cells": [
  {
   "cell_type": "markdown",
   "id": "8235da1f",
   "metadata": {},
   "source": [
    "# Exemple de chargement du dataset PlantVillage\n",
    "Ce notebook montre comment importer et utiliser les fonctions de data_loader.py pour charger le dataset."
   ]
  },
  {
   "cell_type": "code",
   "execution_count": 1,
   "id": "1883538a",
   "metadata": {},
   "outputs": [
    {
     "name": "stdout",
     "output_type": "stream",
     "text": [
      "Racine du projet : /Users/mackjb/repository/datasciencetest_reco_plante-1\n"
     ]
    }
   ],
   "source": [
    "from IPython.display import display\n",
    "from src.helpers.helpers import PROJECT_ROOT\n",
    "from src.data_loader.data_loader import load_plantvillage_all, load_plantvillage_five_images, generate_clean_data_plantvillage_segmented_all\n",
    "\n",
    "print(f\"Racine du projet : {PROJECT_ROOT}\")"
   ]
  },
  {
   "cell_type": "code",
   "execution_count": 3,
   "id": "58da2b2b",
   "metadata": {},
   "outputs": [
    {
     "name": "stdout",
     "output_type": "stream",
     "text": [
      "generate_clean_dataframe finished\n",
      "generate_augmented_dataframe finished\n"
     ]
    }
   ],
   "source": [
    "\n",
    "from pathlib import Path\n",
    "from src.data_loader.data_loader import (\n",
    "    generate_clean_dataframe,\n",
    "    generate_augmented_dataframe,\n",
    "    PROJECT_ROOT,\n",
    ")\n",
    "\n",
    "\n",
    "clean_csv = PROJECT_ROOT/\"dataset\"/\"plantvillage\"/\"csv\"/\"clean_data_plantvillage_segmented_all.csv\"\n",
    "augmented_csv   = PROJECT_ROOT/\"dataset\"/\"plantvillage\"/\"csv\"/\"augmented_minority_cv2.csv\"\n",
    "\n",
    "df_clean = generate_clean_dataframe(clean_csv, force_refresh=False)\n",
    "print('generate_clean_dataframe finished')\n",
    "\n",
    "df_augmented   = generate_augmented_dataframe(augmented_csv, force_refresh=False)\n",
    "print('generate_augmented_dataframe finished')\n"
   ]
  },
  {
   "cell_type": "code",
   "execution_count": null,
   "id": "f6f2ec73",
   "metadata": {},
   "outputs": [],
   "source": [
    "print(df_clean.head())\n",
    "\n",
    "print(df_aug.head())\n"
   ]
  },
  {
   "cell_type": "code",
   "execution_count": null,
   "id": "9bf7d711",
   "metadata": {},
   "outputs": [],
   "source": [
    "# # 2. Generate clean images and features\n",
    "# df_clean, output_dir = generate_clean_and_resized(force_refresh=True)\n",
    "# print(df_clean.head())\n",
    "# print(f\"Clean CSV and resized PNGs generated in: {output_dir}\")"
   ]
  },
  {
   "cell_type": "code",
   "execution_count": null,
   "id": "d83023d4",
   "metadata": {},
   "outputs": [],
   "source": [
    "# pd.set_option('display.max_colwidth', None)\n",
    "\n",
    "\n",
    "# # Marquer l’origine\n",
    "# df_clean['is_augmented'] = False\n",
    "# df_aug  ['is_augmented'] = True\n",
    "\n",
    "# # Concaténer tout pour garder la structure uniforme\n",
    "# df_full = pd.concat([df_clean, df_aug], ignore_index=True)\n",
    "\n",
    "# df_full.describe()\n",
    "\n",
    "# df_full.columns\n"
   ]
  },
  {
   "cell_type": "code",
   "execution_count": null,
   "id": "916fb17b",
   "metadata": {},
   "outputs": [],
   "source": [
    "# from sklearn.model_selection import train_test_split\n",
    "\n",
    "\n",
    "\n",
    "# # 2. On split SÉRIEUSEMENT sur les seules lignes originales\n",
    "# orig = df_full[df_full['is_augmented']==False]\n",
    "# train_orig, test_orig = train_test_split(\n",
    "#     orig,\n",
    "#     test_size=0.2,\n",
    "#     stratify=orig['species'],\n",
    "#     random_state=42\n",
    "# )\n",
    "\n",
    "# # # 3. Construire le train final : \n",
    "# # #    on ajoute **toutes** les augmentations au train, \n",
    "# # #    et on garde le test uniquement sur les originaux\n",
    "# # train_final = pd.concat([train_orig, df_full[df_full['is_augmented']==True]], \n",
    "# #                         ignore_index=True)\n",
    "# # test_final  = test_orig.copy()\n",
    "\n",
    "# # # 4. Séparer X/y\n",
    "# # drop_cols = [\n",
    "# #     'filepath','filename','extension','file_size',\n",
    "# #     'is_image_valid','is_black','is_na',\n",
    "# #     'is_duplicate_after_first','disease','is_augmented'\n",
    "# # ]\n",
    "# # X_train = train_final.drop(columns=drop_cols + ['species'])\n",
    "# # y_train = train_final['species']\n",
    "\n",
    "# # X_test  = test_final.drop(columns=drop_cols + ['species'])\n",
    "# # y_test  = test_final['species']\n",
    "\n",
    "# # # 5. Poursuivre avec scaling, entraînement, SHAP, etc.\n",
    "# # from sklearn.preprocessing import RobustScaler\n",
    "# # scaler = RobustScaler().fit(X_train)\n",
    "# # X_train_s = scaler.transform(X_train)\n",
    "# # X_test_s  = scaler.transform(X_test)\n",
    "\n",
    "# # from sklearn.ensemble import RandomForestClassifier\n",
    "# # clf = RandomForestClassifier(\n",
    "# #     n_estimators=200,\n",
    "# #     class_weight='balanced',\n",
    "# #     random_state=42\n",
    "# # )\n",
    "# # clf.fit(X_train_s, y_train)\n",
    "\n",
    "# # # Vérification\n",
    "# # from sklearn.metrics import classification_report\n",
    "# # print(classification_report(y_test, clf.predict(X_test_s)))\n"
   ]
  },
  {
   "cell_type": "code",
   "execution_count": null,
   "id": "08bf45d4",
   "metadata": {},
   "outputs": [],
   "source": [
    "# from sklearn.preprocessing import LabelEncoder\n",
    "# le = LabelEncoder().fit(y)\n",
    "# y_enc = le.transform(y)\n",
    "\n",
    "# print(y_enc)"
   ]
  },
  {
   "cell_type": "code",
   "execution_count": null,
   "id": "14d8b388",
   "metadata": {},
   "outputs": [],
   "source": [
    "# from sklearn.model_selection import train_test_split\n",
    "# X_train, X_test, y_train, y_test = train_test_split(\n",
    "#     X, y_enc,\n",
    "#     test_size=0.2,\n",
    "#     stratify=y_enc,\n",
    "#     random_state=42\n",
    "# )"
   ]
  }
 ],
 "metadata": {
  "kernelspec": {
   "display_name": "conda_env",
   "language": "python",
   "name": "python3"
  },
  "language_info": {
   "codemirror_mode": {
    "name": "ipython",
    "version": 3
   },
   "file_extension": ".py",
   "mimetype": "text/x-python",
   "name": "python",
   "nbconvert_exporter": "python",
   "pygments_lexer": "ipython3",
   "version": "3.11.13"
  }
 },
 "nbformat": 4,
 "nbformat_minor": 5
}
