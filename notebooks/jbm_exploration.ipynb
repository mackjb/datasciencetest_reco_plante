{
 "cells": [
  {
   "cell_type": "code",
   "execution_count": 5,
   "id": "11070384",
   "metadata": {},
   "outputs": [],
   "source": [
    "from pathlib import Path\n",
    "import pandas as pd\n",
    "import plotly.express as px\n"
   ]
  },
  {
   "cell_type": "code",
   "execution_count": 10,
   "id": "4e33c759",
   "metadata": {},
   "outputs": [],
   "source": [
    "def count_files_by_species(dataset_root: str):\n",
    "    \"\"\"\n",
    "    Parcourt les sous-dossiers 'color', 'grayscale' et 'segmented' du dataset PlantVillage\n",
    "    et retourne un DataFrame avec le nombre de fichiers par espèce et par modalité.\n",
    "    \"\"\"\n",
    "    root = Path(dataset_root)\n",
    "    modalities = ['color', 'grayscale', 'segmented']\n",
    "    records = []\n",
    "\n",
    "    for mod in modalities:\n",
    "        mod_path = root / mod\n",
    "        if not mod_path.exists():\n",
    "            print(f\"⚠️ Le dossier {mod_path} n'existe pas.\")\n",
    "            continue\n",
    "\n",
    "        for class_dir in mod_path.iterdir():\n",
    "            if class_dir.is_dir():\n",
    "                species = class_dir.name.split('___')[0]\n",
    "                count = sum(1 for f in class_dir.iterdir() if f.is_file())\n",
    "                records.append({'species': species, 'modality': mod, 'count': count})\n",
    "\n",
    "    df = pd.DataFrame(records)\n",
    "    # Pivot si vous préférez un format espèces×modalité :\n",
    "    pivot = df.pivot_table(index='species', columns='modality', values='count', fill_value=0)\n",
    "    return df, pivot"
   ]
  },
  {
   "cell_type": "code",
   "execution_count": 14,
   "id": "4053b2af",
   "metadata": {},
   "outputs": [],
   "source": [
    "dataset_root = '../dataset/dataset/plantvillage/plantvillage dataset'\n",
    "df_records, df_pivot = count_files_by_species(dataset_root)\n",
    "\n",
    "# Affichage rapide :\n",
    "# print(df_pivot)\n",
    "\n",
    "# df_records.head(10)\n",
    "\n",
    "# # --- Création de l'histogramme Plotly ---\n",
    "# # On veut la distribution des effectifs par modalité :\n",
    "# fig = px.histogram(\n",
    "#     df_records,\n",
    "#     x='count',\n",
    "#     color='modality',\n",
    "#     barmode='overlay',\n",
    "#     nbins=50,\n",
    "#     title=\"Distribution du nombre d'images par espèce et modalité\",\n",
    "#     labels={'count': \"Nombre d'images\", 'modality': \"Modalité\"}\n",
    "# )\n",
    "\n",
    "# fig.update_layout(\n",
    "#     xaxis_title=\"Nombre d'images par espèce\",\n",
    "#     yaxis_title=\"Nombre d'espèces\",\n",
    "#     legend_title=\"Modalité\"\n",
    "# )\n",
    "\n",
    "# fig.show()"
   ]
  }
 ],
 "metadata": {
  "kernelspec": {
   "display_name": "conda_env",
   "language": "python",
   "name": "python3"
  },
  "language_info": {
   "codemirror_mode": {
    "name": "ipython",
    "version": 3
   },
   "file_extension": ".py",
   "mimetype": "text/x-python",
   "name": "python",
   "nbconvert_exporter": "python",
   "pygments_lexer": "ipython3",
   "version": "3.11.13"
  }
 },
 "nbformat": 4,
 "nbformat_minor": 5
}
