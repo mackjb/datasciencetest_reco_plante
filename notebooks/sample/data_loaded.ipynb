{
 "cells": [
  {
   "cell_type": "markdown",
   "id": "8235da1f",
   "metadata": {},
   "source": [
    "# Exemple de chargement du dataset PlantVillage\n",
    "Ce notebook montre comment importer et utiliser les fonctions de data_loader.py pour charger le dataset."
   ]
  },
  {
   "cell_type": "code",
   "execution_count": null,
   "id": "57c08f80",
   "metadata": {},
   "outputs": [],
   "source": [
    "import sys\n",
    "from pathlib import Path\n",
    "\n",
    "# Ajouter le répertoire racine du projet au PYTHONPATH\n",
    "sys.path.insert(0, str(Path.cwd().parent.parent))"
   ]
  },
  {
   "cell_type": "code",
   "execution_count": null,
   "id": "1883538a",
   "metadata": {},
   "outputs": [],
   "source": [
    "from IPython.display import display\n",
    "from src.helpers.helpers import PROJECT_ROOT\n",
    "from src.data_loader.data_loader import load_plantvillage_all, load_plantvillage_five_images\n",
    "\n",
    "print(f\"Racine du projet : {PROJECT_ROOT}\")"
   ]
  },
  {
   "cell_type": "code",
   "execution_count": null,
   "id": "e7cfc0ff",
   "metadata": {},
   "outputs": [],
   "source": [
    "# Chargement complet du dataset\n",
    "try:\n",
    "    df_all = load_plantvillage_all()\n",
    "    print(f\"Images totales chargées : {len(df_all)}\")\n",
    "    display(df_all.head())\n",
    "except FileNotFoundError as e:\n",
    "    print(e)"
   ]
  },
  {
   "cell_type": "code",
   "execution_count": null,
   "id": "904f1bcc",
   "metadata": {},
   "outputs": [],
   "source": [
    "# Chargement du sous-ensemble de 5 images par classe\n",
    "try:\n",
    "    df5 = load_plantvillage_five_images()\n",
    "    print(f\"Images totales chargées (5 images par classe) : {len(df5)}\")\n",
    "    display(df5.head())\n",
    "except FileNotFoundError as e:\n",
    "    print(e)"
   ]
  }
 ],
 "metadata": {
  "kernelspec": {
   "display_name": "Python 3",
   "name": "python3"
  },
  "language_info": {
   "codemirror_mode": {
    "name": "ipython",
    "version": 3
   },
   "file_extension": ".py",
   "mimetype": "text/x-python",
   "name": "python",
   "pygments_lexer": "ipython3",
   "version": "3.11.13"
  }
 },
 "nbformat": 4,
 "nbformat_minor": 5
}
