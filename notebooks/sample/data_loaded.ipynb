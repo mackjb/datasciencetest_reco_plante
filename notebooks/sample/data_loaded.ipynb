{
 "cells": [
  {
   "cell_type": "code",
   "execution_count": null,
   "id": "2ab68cff",
   "metadata": {},
   "outputs": [],
   "source": [
    "\n",
    "\n",
    "\n",
    "\n",
    "# def get_project_root(marker: str = \".gitignore\") -> Path:\n",
    "#     \"\"\"\n",
    "#     Retourne le Path du répertoire racine du projet (contenant le fichier `marker`).\n",
    "\n",
    "#     Args:\n",
    "#         marker: nom du fichier ou dossier marqueur (par défaut \".gitignore\").\n",
    "\n",
    "#     Returns:\n",
    "#         Path vers la racine du projet.\n",
    "\n",
    "#     Raises:\n",
    "#         FileNotFoundError: si aucun parent ne contient `marker`.\n",
    "#     \"\"\"\n",
    "#     current = Path(__file__).resolve()\n",
    "#     for parent in (current, *current.parents):\n",
    "#         if (parent / marker).exists():\n",
    "#             return parent\n",
    "#     raise FileNotFoundError(f\"Impossible de trouver la racine du projet (marker={marker})\")\n",
    "\n",
    "# # Instance globale accessible partout\n",
    "# PROJECT_ROOT: Path = get_project_root()\n"
   ]
  },
  {
   "cell_type": "code",
   "execution_count": 12,
   "id": "25632dfb",
   "metadata": {},
   "outputs": [
    {
     "name": "stdout",
     "output_type": "stream",
     "text": [
      "Racine du projet : /workspaces/datasciencetest_reco_plante\n"
     ]
    }
   ],
   "source": [
    "# chemin relatif depuis notebooks/ vers src/\n",
    "import sys\n",
    "from pathlib import Path\n",
    "\n",
    "src_path = Path.cwd().parent.parent / \"src\"\n",
    "sys.path.insert(0, str(src_path.resolve()))\n",
    "\n",
    "from helpers import PROJECT_ROOT\n",
    "\n",
    "print(f\"Racine du projet : {PROJECT_ROOT}\")"
   ]
  },
  {
   "cell_type": "code",
   "execution_count": 13,
   "id": "da429708",
   "metadata": {},
   "outputs": [],
   "source": [
    "from data_loader import load_plantvillage_all, load_plantvillage_five_images"
   ]
  },
  {
   "cell_type": "code",
   "execution_count": 14,
   "id": "78d18e5e",
   "metadata": {},
   "outputs": [
    {
     "ename": "FileNotFoundError",
     "evalue": "Le dossier /workspaces/datasciencetest_reco_plante/notebooks/sample/dataset/plantvillage/data/plantvillage dataset est introuvable.",
     "output_type": "error",
     "traceback": [
      "\u001b[31m---------------------------------------------------------------------------\u001b[39m",
      "\u001b[31mFileNotFoundError\u001b[39m                         Traceback (most recent call last)",
      "\u001b[36mCell\u001b[39m\u001b[36m \u001b[39m\u001b[32mIn[14]\u001b[39m\u001b[32m, line 2\u001b[39m\n\u001b[32m      1\u001b[39m \u001b[38;5;66;03m# Chargement complet\u001b[39;00m\n\u001b[32m----> \u001b[39m\u001b[32m2\u001b[39m df_all = \u001b[43mload_plantvillage_all\u001b[49m\u001b[43m(\u001b[49m\u001b[43m)\u001b[49m\n\u001b[32m      4\u001b[39m \u001b[38;5;66;03m# Chargement du sous-ensemble 5 images\u001b[39;00m\n\u001b[32m      5\u001b[39m df5 = load_plantvillage_five_images()\n",
      "\u001b[36mFile \u001b[39m\u001b[32m/workspaces/datasciencetest_reco_plante/src/data_loader/data_loader.py:47\u001b[39m, in \u001b[36mload_plantvillage_all\u001b[39m\u001b[34m()\u001b[39m\n\u001b[32m     41\u001b[39m \u001b[38;5;28;01mdef\u001b[39;00m\u001b[38;5;250m \u001b[39m\u001b[34mload_plantvillage_all\u001b[39m() -> pd.DataFrame:\n\u001b[32m     42\u001b[39m \u001b[38;5;250m    \u001b[39m\u001b[33;03m\"\"\"\u001b[39;00m\n\u001b[32m     43\u001b[39m \u001b[33;03m    Charge l'intégralité du dataset PlantVillage.\u001b[39;00m\n\u001b[32m     44\u001b[39m \n\u001b[32m     45\u001b[39m \u001b[33;03m    :return: pandas.DataFrame avec colonnes 'filepath' et 'label'.\u001b[39;00m\n\u001b[32m     46\u001b[39m \u001b[33;03m    \"\"\"\u001b[39;00m\n\u001b[32m---> \u001b[39m\u001b[32m47\u001b[39m     \u001b[38;5;28;01mreturn\u001b[39;00m \u001b[43m_load_dataset\u001b[49m\u001b[43m(\u001b[49m\u001b[33;43m'\u001b[39;49m\u001b[33;43mplantvillage dataset\u001b[39;49m\u001b[33;43m'\u001b[39;49m\u001b[43m)\u001b[49m\n",
      "\u001b[36mFile \u001b[39m\u001b[32m/workspaces/datasciencetest_reco_plante/src/data_loader/data_loader.py:21\u001b[39m, in \u001b[36m_load_dataset\u001b[39m\u001b[34m(subfolder)\u001b[39m\n\u001b[32m     19\u001b[39m folder_path = os.path.join(data_root, subfolder)\n\u001b[32m     20\u001b[39m \u001b[38;5;28;01mif\u001b[39;00m \u001b[38;5;129;01mnot\u001b[39;00m os.path.isdir(folder_path):\n\u001b[32m---> \u001b[39m\u001b[32m21\u001b[39m     \u001b[38;5;28;01mraise\u001b[39;00m \u001b[38;5;167;01mFileNotFoundError\u001b[39;00m(\u001b[33mf\u001b[39m\u001b[33m\"\u001b[39m\u001b[33mLe dossier \u001b[39m\u001b[38;5;132;01m{\u001b[39;00mfolder_path\u001b[38;5;132;01m}\u001b[39;00m\u001b[33m est introuvable.\u001b[39m\u001b[33m\"\u001b[39m)\n\u001b[32m     23\u001b[39m records = []\n\u001b[32m     24\u001b[39m \u001b[38;5;66;03m# Parcours des classes (sous-dossiers)\u001b[39;00m\n",
      "\u001b[31mFileNotFoundError\u001b[39m: Le dossier /workspaces/datasciencetest_reco_plante/notebooks/sample/dataset/plantvillage/data/plantvillage dataset est introuvable."
     ]
    }
   ],
   "source": [
    "\n",
    "\n",
    "# Chargement complet\n",
    "df_all = load_plantvillage_all()\n",
    "\n",
    "# Chargement du sous-ensemble 5 images\n",
    "df5 = load_plantvillage_five_images()"
   ]
  },
  {
   "cell_type": "code",
   "execution_count": null,
   "id": "9c325c1d",
   "metadata": {},
   "outputs": [],
   "source": []
  },
  {
   "cell_type": "markdown",
   "id": "a5e8b77f",
   "metadata": {},
   "source": [
    "En résumé\n",
    "\t•\tCréez src/dataloader/__init__.py.\n",
    "\t•\tSoit ajoutez src/ au sys.path, soit installez le package en editable (pip install -e .).\n",
    "\t•\tImportez ensuite depuis le package dataloader, pas depuis un module data_loader isolé."
   ]
  }
 ],
 "metadata": {
  "kernelspec": {
   "display_name": "conda_env",
   "language": "python",
   "name": "python3"
  },
  "language_info": {
   "codemirror_mode": {
    "name": "ipython",
    "version": 3
   },
   "file_extension": ".py",
   "mimetype": "text/x-python",
   "name": "python",
   "nbconvert_exporter": "python",
   "pygments_lexer": "ipython3",
   "version": "3.11.13"
  }
 },
 "nbformat": 4,
 "nbformat_minor": 5
}
